{
 "cells": [
  {
   "cell_type": "markdown",
   "id": "c2a66fae",
   "metadata": {},
   "source": [
    "# 類別"
   ]
  },
  {
   "cell_type": "code",
   "execution_count": 1,
   "id": "d5251f0c",
   "metadata": {},
   "outputs": [],
   "source": [
    "# 預處理\n",
    "import numpy as np\n",
    "\n",
    "import pandas as pd\n",
    "from sklearn.model_selection import train_test_split\n",
    "from keras.datasets import mnist\n",
    "from keras import models \n",
    "from keras import layers\n",
    "from keras.utils import np_utils\n",
    "from tensorflow.keras.utils import to_categorical\n",
    "from keras import backend as K\n",
    "from keras.layers import Dense, Activation, Flatten\n",
    "from matplotlib import pyplot as plt\n",
    "import tensorflow as tf\n",
    "\n",
    "dataset = pd.read_csv('Part1Data.csv')"
   ]
  },
  {
   "cell_type": "code",
   "execution_count": 2,
   "id": "5d2b424d",
   "metadata": {},
   "outputs": [],
   "source": [
    "# 設定答案\n",
    "dataset_target = dataset.pop('IsoverAVE')\n",
    "dataset = dataset.drop(\"Zone1PowerConsumption\",axis = 1)\n",
    "dataset = dataset.drop(\"Zone2PowerConsumption\",axis = 1)\n",
    "dataset = dataset.drop(\"Zone3PowerConsumption\",axis = 1)\n",
    "# 定義\n",
    "def recall(y_true, y_pred):\n",
    "    true_positives = K.sum(K.round(K.clip(y_true * y_pred, 0, 1)))\n",
    "    possible_positives = K.sum(K.round(K.clip(y_true, 0, 1)))\n",
    "    recall = true_positives / (possible_positives + K.epsilon())\n",
    "    return recall\n",
    "\n",
    "def precision(y_true, y_pred):\n",
    "    true_positives = K.sum(K.round(K.clip(y_true * y_pred, 0, 1)))\n",
    "    predicted_positives = K.sum(K.round(K.clip(y_pred, 0, 1)))\n",
    "    precision = true_positives / (predicted_positives + K.epsilon())\n",
    "    return precision"
   ]
  },
  {
   "cell_type": "code",
   "execution_count": 3,
   "id": "c37fc5fa",
   "metadata": {},
   "outputs": [
    {
     "name": "stdout",
     "output_type": "stream",
     "text": [
      "(41932, 5) (10484, 5)\n"
     ]
    }
   ],
   "source": [
    "# 分割資料\n",
    "from sklearn.model_selection import train_test_split\n",
    "X_train, X_test, Y_train, Y_test = train_test_split( dataset , dataset_target , test_size = 0.2)\n",
    "print(X_train.shape , X_test.shape)"
   ]
  },
  {
   "cell_type": "code",
   "execution_count": 4,
   "id": "03218449",
   "metadata": {},
   "outputs": [],
   "source": [
    "# 正規化\n",
    "X_train = X_train.values.reshape(41932, 5)\n",
    "X_test = X_test.values.reshape(10484, 5)\n",
    "X_train = X_train.astype('float32')\n",
    "X_test = X_test.astype('float32')\n",
    "\n",
    "#正規化測試資料 (0到1之間)\n",
    "X_train /= 255\n",
    "X_test /= 255\n",
    "\n",
    "#標籤向量化\n",
    "Y_train = np.asarray(Y_train).astype('float32')\n",
    "Y_test = np.asarray(Y_test).astype('float32')"
   ]
  },
  {
   "cell_type": "code",
   "execution_count": 5,
   "id": "1011abc1",
   "metadata": {},
   "outputs": [
    {
     "name": "stdout",
     "output_type": "stream",
     "text": [
      "Model: \"sequential\"\n",
      "_________________________________________________________________\n",
      "Layer (type)                 Output Shape              Param #   \n",
      "=================================================================\n",
      "dense (Dense)                (None, 1000)              6000      \n",
      "_________________________________________________________________\n",
      "dense_1 (Dense)              (None, 10)                10010     \n",
      "_________________________________________________________________\n",
      "dense_2 (Dense)              (None, 1)                 11        \n",
      "=================================================================\n",
      "Total params: 16,021\n",
      "Trainable params: 16,021\n",
      "Non-trainable params: 0\n",
      "_________________________________________________________________\n"
     ]
    }
   ],
   "source": [
    "#建構模型\n",
    "network = models.Sequential()\n",
    "network.add(layers.Dense(1000, activation='relu', input_shape=(X_train.shape[1],)))\n",
    "network.add(layers.Dense(10, activation='relu'))\n",
    "network.add(layers.Dense(1, activation='sigmoid'))\n",
    "network.compile(optimizer='rmsprop', loss='binary_crossentropy',metrics=['acc',precision, recall])\n",
    "network.summary()"
   ]
  },
  {
   "cell_type": "code",
   "execution_count": 6,
   "id": "67be539b",
   "metadata": {
    "scrolled": false
   },
   "outputs": [
    {
     "name": "stdout",
     "output_type": "stream",
     "text": [
      "Epoch 1/50\n",
      "168/168 [==============================] - 0s 3ms/step - loss: 0.6665 - acc: 0.6268 - precision: 0.6780 - recall: 0.4569 - val_loss: 0.6506 - val_acc: 0.6433 - val_precision: 0.6896 - val_recall: 0.5051\n",
      "Epoch 2/50\n",
      "168/168 [==============================] - 0s 2ms/step - loss: 0.6142 - acc: 0.6540 - precision: 0.6737 - recall: 0.5921 - val_loss: 0.6021 - val_acc: 0.6588 - val_precision: 0.6681 - val_recall: 0.6122\n",
      "Epoch 3/50\n",
      "168/168 [==============================] - 0s 2ms/step - loss: 0.5992 - acc: 0.6620 - precision: 0.6647 - recall: 0.6512 - val_loss: 0.5995 - val_acc: 0.6594 - val_precision: 0.6793 - val_recall: 0.5858\n",
      "Epoch 4/50\n",
      "168/168 [==============================] - 0s 2ms/step - loss: 0.5937 - acc: 0.6672 - precision: 0.6633 - recall: 0.6778 - val_loss: 0.5911 - val_acc: 0.6673 - val_precision: 0.6658 - val_recall: 0.6541\n",
      "Epoch 5/50\n",
      "168/168 [==============================] - 0s 2ms/step - loss: 0.5920 - acc: 0.6659 - precision: 0.6589 - recall: 0.6881 - val_loss: 0.5884 - val_acc: 0.6674 - val_precision: 0.6549 - val_recall: 0.6883\n",
      "Epoch 6/50\n",
      "168/168 [==============================] - 0s 2ms/step - loss: 0.5892 - acc: 0.6672 - precision: 0.6593 - recall: 0.6880 - val_loss: 0.5877 - val_acc: 0.6675 - val_precision: 0.6641 - val_recall: 0.6605\n",
      "Epoch 7/50\n",
      "168/168 [==============================] - 0s 2ms/step - loss: 0.5876 - acc: 0.6686 - precision: 0.6603 - recall: 0.6923 - val_loss: 0.6145 - val_acc: 0.6468 - val_precision: 0.7105 - val_recall: 0.4811\n",
      "Epoch 8/50\n",
      "168/168 [==============================] - 0s 2ms/step - loss: 0.5864 - acc: 0.6709 - precision: 0.6650 - recall: 0.6869 - val_loss: 0.5843 - val_acc: 0.6666 - val_precision: 0.6667 - val_recall: 0.6474\n",
      "Epoch 9/50\n",
      "168/168 [==============================] - 0s 2ms/step - loss: 0.5849 - acc: 0.6686 - precision: 0.6630 - recall: 0.6843 - val_loss: 0.5922 - val_acc: 0.6621 - val_precision: 0.6311 - val_recall: 0.7593\n",
      "Epoch 10/50\n",
      "168/168 [==============================] - 0s 2ms/step - loss: 0.5833 - acc: 0.6693 - precision: 0.6658 - recall: 0.6773 - val_loss: 0.5813 - val_acc: 0.6656 - val_precision: 0.6447 - val_recall: 0.7170\n",
      "Epoch 11/50\n",
      "168/168 [==============================] - 0s 2ms/step - loss: 0.5829 - acc: 0.6693 - precision: 0.6640 - recall: 0.6840 - val_loss: 0.5801 - val_acc: 0.6672 - val_precision: 0.6645 - val_recall: 0.6574\n",
      "Epoch 12/50\n",
      "168/168 [==============================] - 0s 2ms/step - loss: 0.5821 - acc: 0.6691 - precision: 0.6641 - recall: 0.6827 - val_loss: 0.5800 - val_acc: 0.6653 - val_precision: 0.6677 - val_recall: 0.6407\n",
      "Epoch 13/50\n",
      "168/168 [==============================] - 0s 2ms/step - loss: 0.5817 - acc: 0.6706 - precision: 0.6655 - recall: 0.6852 - val_loss: 0.5837 - val_acc: 0.6655 - val_precision: 0.6881 - val_recall: 0.5887\n",
      "Epoch 14/50\n",
      "168/168 [==============================] - 0s 2ms/step - loss: 0.5807 - acc: 0.6700 - precision: 0.6635 - recall: 0.6861 - val_loss: 0.5876 - val_acc: 0.6656 - val_precision: 0.6996 - val_recall: 0.5645\n",
      "Epoch 15/50\n",
      "168/168 [==============================] - 0s 2ms/step - loss: 0.5799 - acc: 0.6714 - precision: 0.6642 - recall: 0.6915 - val_loss: 0.5834 - val_acc: 0.6647 - val_precision: 0.6311 - val_recall: 0.7721\n",
      "Epoch 16/50\n",
      "168/168 [==============================] - 0s 2ms/step - loss: 0.5793 - acc: 0.6731 - precision: 0.6668 - recall: 0.6901 - val_loss: 0.5780 - val_acc: 0.6661 - val_precision: 0.6671 - val_recall: 0.6459\n",
      "Epoch 17/50\n",
      "168/168 [==============================] - 0s 2ms/step - loss: 0.5778 - acc: 0.6710 - precision: 0.6648 - recall: 0.6900 - val_loss: 0.5759 - val_acc: 0.6684 - val_precision: 0.6634 - val_recall: 0.6653\n",
      "Epoch 18/50\n",
      "168/168 [==============================] - 0s 2ms/step - loss: 0.5777 - acc: 0.6753 - precision: 0.6680 - recall: 0.6919 - val_loss: 0.5751 - val_acc: 0.6652 - val_precision: 0.6532 - val_recall: 0.6865\n",
      "Epoch 19/50\n",
      "168/168 [==============================] - 0s 2ms/step - loss: 0.5772 - acc: 0.6714 - precision: 0.6647 - recall: 0.6898 - val_loss: 0.5764 - val_acc: 0.6649 - val_precision: 0.6401 - val_recall: 0.7359\n",
      "Epoch 20/50\n",
      "168/168 [==============================] - 0s 2ms/step - loss: 0.5766 - acc: 0.6735 - precision: 0.6662 - recall: 0.6921 - val_loss: 0.5744 - val_acc: 0.6715 - val_precision: 0.6679 - val_recall: 0.6638\n",
      "Epoch 21/50\n",
      "168/168 [==============================] - 0s 2ms/step - loss: 0.5758 - acc: 0.6730 - precision: 0.6662 - recall: 0.6909 - val_loss: 0.5753 - val_acc: 0.6666 - val_precision: 0.6395 - val_recall: 0.7446\n",
      "Epoch 22/50\n",
      "168/168 [==============================] - 0s 2ms/step - loss: 0.5758 - acc: 0.6733 - precision: 0.6659 - recall: 0.6929 - val_loss: 0.5743 - val_acc: 0.6689 - val_precision: 0.6753 - val_recall: 0.6350\n",
      "Epoch 23/50\n",
      "168/168 [==============================] - 0s 2ms/step - loss: 0.5744 - acc: 0.6756 - precision: 0.6685 - recall: 0.6934 - val_loss: 0.5791 - val_acc: 0.6634 - val_precision: 0.6292 - val_recall: 0.7753\n",
      "Epoch 24/50\n",
      "168/168 [==============================] - 0s 2ms/step - loss: 0.5744 - acc: 0.6735 - precision: 0.6674 - recall: 0.6930 - val_loss: 0.5773 - val_acc: 0.6716 - val_precision: 0.6912 - val_recall: 0.6038\n",
      "Epoch 25/50\n",
      "168/168 [==============================] - 0s 2ms/step - loss: 0.5730 - acc: 0.6739 - precision: 0.6677 - recall: 0.6907 - val_loss: 0.5743 - val_acc: 0.6663 - val_precision: 0.6435 - val_recall: 0.7278\n",
      "Epoch 26/50\n",
      "168/168 [==============================] - 0s 2ms/step - loss: 0.5730 - acc: 0.6734 - precision: 0.6671 - recall: 0.6885 - val_loss: 0.5916 - val_acc: 0.6640 - val_precision: 0.7112 - val_recall: 0.5359\n",
      "Epoch 27/50\n",
      "168/168 [==============================] - 0s 2ms/step - loss: 0.5727 - acc: 0.6735 - precision: 0.6690 - recall: 0.6858 - val_loss: 0.5763 - val_acc: 0.6671 - val_precision: 0.6779 - val_recall: 0.6221\n",
      "Epoch 28/50\n",
      "168/168 [==============================] - 0s 2ms/step - loss: 0.5717 - acc: 0.6769 - precision: 0.6780 - recall: 0.6738 - val_loss: 0.5875 - val_acc: 0.6729 - val_precision: 0.7206 - val_recall: 0.5502\n",
      "Epoch 29/50\n",
      "168/168 [==============================] - 0s 1ms/step - loss: 0.5712 - acc: 0.6786 - precision: 0.6787 - recall: 0.6758 - val_loss: 0.5708 - val_acc: 0.6739 - val_precision: 0.7112 - val_recall: 0.5728\n",
      "Epoch 30/50\n",
      "168/168 [==============================] - 0s 2ms/step - loss: 0.5702 - acc: 0.6801 - precision: 0.6863 - recall: 0.6622 - val_loss: 0.5773 - val_acc: 0.6662 - val_precision: 0.6469 - val_recall: 0.7180\n",
      "Epoch 31/50\n",
      "168/168 [==============================] - 0s 2ms/step - loss: 0.5691 - acc: 0.6821 - precision: 0.6925 - recall: 0.6538 - val_loss: 0.5685 - val_acc: 0.6724 - val_precision: 0.6652 - val_recall: 0.6805\n",
      "Epoch 32/50\n",
      "168/168 [==============================] - 0s 1ms/step - loss: 0.5691 - acc: 0.6828 - precision: 0.6969 - recall: 0.6469 - val_loss: 0.5672 - val_acc: 0.6780 - val_precision: 0.7075 - val_recall: 0.5945\n",
      "Epoch 33/50\n",
      "168/168 [==============================] - 0s 1ms/step - loss: 0.5681 - acc: 0.6823 - precision: 0.6983 - recall: 0.6422 - val_loss: 0.5882 - val_acc: 0.6617 - val_precision: 0.6289 - val_recall: 0.7720\n",
      "Epoch 34/50\n",
      "168/168 [==============================] - 0s 1ms/step - loss: 0.5679 - acc: 0.6824 - precision: 0.6988 - recall: 0.6421 - val_loss: 0.5674 - val_acc: 0.6806 - val_precision: 0.6939 - val_recall: 0.6323\n",
      "Epoch 35/50\n",
      "168/168 [==============================] - 0s 2ms/step - loss: 0.5666 - acc: 0.6833 - precision: 0.6996 - recall: 0.6416 - val_loss: 0.5661 - val_acc: 0.6798 - val_precision: 0.7119 - val_recall: 0.5913\n",
      "Epoch 36/50\n",
      "168/168 [==============================] - 0s 2ms/step - loss: 0.5663 - acc: 0.6862 - precision: 0.7063 - recall: 0.6383 - val_loss: 0.5780 - val_acc: 0.6675 - val_precision: 0.6430 - val_recall: 0.7395\n",
      "Epoch 37/50\n",
      "168/168 [==============================] - 0s 2ms/step - loss: 0.5659 - acc: 0.6854 - precision: 0.7034 - recall: 0.6432 - val_loss: 0.5676 - val_acc: 0.6832 - val_precision: 0.6833 - val_recall: 0.6689\n",
      "Epoch 38/50\n",
      "168/168 [==============================] - 0s 1ms/step - loss: 0.5649 - acc: 0.6866 - precision: 0.7063 - recall: 0.6402 - val_loss: 0.5640 - val_acc: 0.6823 - val_precision: 0.6883 - val_recall: 0.6520\n",
      "Epoch 39/50\n"
     ]
    },
    {
     "name": "stdout",
     "output_type": "stream",
     "text": [
      "168/168 [==============================] - 0s 2ms/step - loss: 0.5639 - acc: 0.6860 - precision: 0.7047 - recall: 0.6403 - val_loss: 0.5773 - val_acc: 0.6853 - val_precision: 0.7594 - val_recall: 0.5320\n",
      "Epoch 40/50\n",
      "168/168 [==============================] - 0s 1ms/step - loss: 0.5638 - acc: 0.6880 - precision: 0.7086 - recall: 0.6405 - val_loss: 0.5645 - val_acc: 0.6820 - val_precision: 0.6870 - val_recall: 0.6554\n",
      "Epoch 41/50\n",
      "168/168 [==============================] - 0s 2ms/step - loss: 0.5631 - acc: 0.6895 - precision: 0.7090 - recall: 0.6417 - val_loss: 0.5635 - val_acc: 0.6771 - val_precision: 0.6719 - val_recall: 0.6801\n",
      "Epoch 42/50\n",
      "168/168 [==============================] - 0s 1ms/step - loss: 0.5624 - acc: 0.6903 - precision: 0.7128 - recall: 0.6406 - val_loss: 0.5756 - val_acc: 0.6726 - val_precision: 0.6510 - val_recall: 0.7304\n",
      "Epoch 43/50\n",
      "168/168 [==============================] - 0s 1ms/step - loss: 0.5614 - acc: 0.6911 - precision: 0.7125 - recall: 0.6378 - val_loss: 0.5857 - val_acc: 0.6681 - val_precision: 0.6394 - val_recall: 0.7550\n",
      "Epoch 44/50\n",
      "168/168 [==============================] - 0s 2ms/step - loss: 0.5608 - acc: 0.6904 - precision: 0.7112 - recall: 0.6405 - val_loss: 0.5592 - val_acc: 0.6890 - val_precision: 0.7221 - val_recall: 0.6023\n",
      "Epoch 45/50\n",
      "168/168 [==============================] - 0s 2ms/step - loss: 0.5609 - acc: 0.6913 - precision: 0.7143 - recall: 0.6377 - val_loss: 0.5590 - val_acc: 0.6888 - val_precision: 0.7206 - val_recall: 0.6046\n",
      "Epoch 46/50\n",
      "168/168 [==============================] - 0s 2ms/step - loss: 0.5603 - acc: 0.6926 - precision: 0.7171 - recall: 0.6364 - val_loss: 0.5607 - val_acc: 0.6884 - val_precision: 0.6997 - val_recall: 0.6485\n",
      "Epoch 47/50\n",
      "168/168 [==============================] - 0s 2ms/step - loss: 0.5596 - acc: 0.6941 - precision: 0.7184 - recall: 0.6369 - val_loss: 0.5656 - val_acc: 0.6794 - val_precision: 0.6702 - val_recall: 0.6937\n",
      "Epoch 48/50\n",
      "168/168 [==============================] - 0s 1ms/step - loss: 0.5591 - acc: 0.6936 - precision: 0.7176 - recall: 0.6375 - val_loss: 0.5643 - val_acc: 0.6832 - val_precision: 0.6901 - val_recall: 0.6536\n",
      "Epoch 49/50\n",
      "168/168 [==============================] - 0s 2ms/step - loss: 0.5581 - acc: 0.6943 - precision: 0.7186 - recall: 0.6386 - val_loss: 0.5607 - val_acc: 0.6912 - val_precision: 0.7024 - val_recall: 0.6522\n",
      "Epoch 50/50\n",
      "168/168 [==============================] - 0s 1ms/step - loss: 0.5580 - acc: 0.6937 - precision: 0.7208 - recall: 0.6335 - val_loss: 0.5584 - val_acc: 0.6841 - val_precision: 0.7222 - val_recall: 0.5869\n"
     ]
    }
   ],
   "source": [
    "history = network.fit(X_train,Y_train,\n",
    "epochs=50,\n",
    "batch_size=250,validation_data=(X_test, Y_test))"
   ]
  },
  {
   "cell_type": "code",
   "execution_count": 7,
   "id": "7d2b4c77",
   "metadata": {},
   "outputs": [
    {
     "data": {
      "image/png": "[encoded data removed]",
      "text/plain": [
       "<Figure size 432x288 with 1 Axes>"
      ]
     },
     "metadata": {
      "needs_background": "light"
     },
     "output_type": "display_data"
    }
   ],
   "source": [
    "loss = history.history[\"loss\"]\n",
    "epochs = range(1, len(loss)+1)\n",
    "plt.plot(epochs, loss, \"bo\", label =\"Training Loss\")\n",
    "plt.plot(epochs, history.history['val_loss'], 'b', label='Validation loss')\n",
    "plt.xlabel(\"Epochs\")\n",
    "plt.ylabel(\"Loss\")\n",
    "plt.legend()\n",
    "plt.show()"
   ]
  },
  {
   "cell_type": "code",
   "execution_count": 8,
   "id": "7ea66316",
   "metadata": {},
   "outputs": [
    {
     "name": "stdout",
     "output_type": "stream",
     "text": [
      "328/328 [==============================] - 0s 526us/step - loss: 0.5584 - acc: 0.6841 - precision: 0.7233 - recall: 0.5878\n",
      "Precision 0.7232587933540344\n",
      "Recall 0.587783932685852\n",
      "F1 0.6485218055270683\n"
     ]
    }
   ],
   "source": [
    "preds = network.evaluate(x = X_test, y = Y_test)\n",
    "\n",
    "F1 = 2 * (preds[2] * preds[3]) / (preds[2] + preds[3])\n",
    "print('Precision', preds[2])\n",
    "print('Recall', preds[3])\n",
    "print('F1',F1)"
   ]
  },
  {
   "cell_type": "code",
   "execution_count": 9,
   "id": "a5a7e31b",
   "metadata": {},
   "outputs": [
    {
     "data": {
      "image/png": "[encoded data removed]",
      "text/plain": [
       "<Figure size 576x360 with 1 Axes>"
      ]
     },
     "metadata": {
      "needs_background": "light"
     },
     "output_type": "display_data"
    }
   ],
   "source": [
    "pd.DataFrame(history.history).plot(figsize = (8, 5))\n",
    "plt.grid(True)\n",
    "plt.gca().set_ylim(0, 2)\n",
    "plt.show()"
   ]
  },
  {
   "cell_type": "code",
   "execution_count": 10,
   "id": "0f1a8cc1",
   "metadata": {},
   "outputs": [
    {
     "data": {
      "text/html": [
       "<div>\n",
       "<style scoped>\n",
       "    .dataframe tbody tr th:only-of-type {\n",
       "        vertical-align: middle;\n",
       "    }\n",
       "\n",
       "    .dataframe tbody tr th {\n",
       "        vertical-align: top;\n",
       "    }\n",
       "\n",
       "    .dataframe thead th {\n",
       "        text-align: right;\n",
       "    }\n",
       "</style>\n",
       "<table border=\"1\" class=\"dataframe\">\n",
       "  <thead>\n",
       "    <tr style=\"text-align: right;\">\n",
       "      <th></th>\n",
       "      <th>Temperature</th>\n",
       "      <th>Humidity</th>\n",
       "      <th>Wind Speed</th>\n",
       "      <th>general diffuse flows</th>\n",
       "      <th>diffuse flows</th>\n",
       "    </tr>\n",
       "  </thead>\n",
       "  <tbody>\n",
       "    <tr>\n",
       "      <th>0</th>\n",
       "      <td>6.559</td>\n",
       "      <td>73.8</td>\n",
       "      <td>0.083</td>\n",
       "      <td>0.051</td>\n",
       "      <td>0.119</td>\n",
       "    </tr>\n",
       "    <tr>\n",
       "      <th>1</th>\n",
       "      <td>6.414</td>\n",
       "      <td>74.5</td>\n",
       "      <td>0.083</td>\n",
       "      <td>0.070</td>\n",
       "      <td>0.085</td>\n",
       "    </tr>\n",
       "    <tr>\n",
       "      <th>2</th>\n",
       "      <td>6.313</td>\n",
       "      <td>74.5</td>\n",
       "      <td>0.080</td>\n",
       "      <td>0.062</td>\n",
       "      <td>0.100</td>\n",
       "    </tr>\n",
       "    <tr>\n",
       "      <th>3</th>\n",
       "      <td>6.121</td>\n",
       "      <td>75.0</td>\n",
       "      <td>0.083</td>\n",
       "      <td>0.091</td>\n",
       "      <td>0.096</td>\n",
       "    </tr>\n",
       "    <tr>\n",
       "      <th>4</th>\n",
       "      <td>5.921</td>\n",
       "      <td>75.7</td>\n",
       "      <td>0.081</td>\n",
       "      <td>0.048</td>\n",
       "      <td>0.085</td>\n",
       "    </tr>\n",
       "    <tr>\n",
       "      <th>...</th>\n",
       "      <td>...</td>\n",
       "      <td>...</td>\n",
       "      <td>...</td>\n",
       "      <td>...</td>\n",
       "      <td>...</td>\n",
       "    </tr>\n",
       "    <tr>\n",
       "      <th>52411</th>\n",
       "      <td>7.010</td>\n",
       "      <td>72.4</td>\n",
       "      <td>0.080</td>\n",
       "      <td>0.040</td>\n",
       "      <td>0.096</td>\n",
       "    </tr>\n",
       "    <tr>\n",
       "      <th>52412</th>\n",
       "      <td>6.947</td>\n",
       "      <td>72.6</td>\n",
       "      <td>0.082</td>\n",
       "      <td>0.051</td>\n",
       "      <td>0.093</td>\n",
       "    </tr>\n",
       "    <tr>\n",
       "      <th>52413</th>\n",
       "      <td>6.900</td>\n",
       "      <td>72.8</td>\n",
       "      <td>0.086</td>\n",
       "      <td>0.084</td>\n",
       "      <td>0.074</td>\n",
       "    </tr>\n",
       "    <tr>\n",
       "      <th>52414</th>\n",
       "      <td>6.758</td>\n",
       "      <td>73.0</td>\n",
       "      <td>0.080</td>\n",
       "      <td>0.066</td>\n",
       "      <td>0.089</td>\n",
       "    </tr>\n",
       "    <tr>\n",
       "      <th>52415</th>\n",
       "      <td>6.580</td>\n",
       "      <td>74.1</td>\n",
       "      <td>0.081</td>\n",
       "      <td>0.062</td>\n",
       "      <td>0.111</td>\n",
       "    </tr>\n",
       "  </tbody>\n",
       "</table>\n",
       "<p>52416 rows × 5 columns</p>\n",
       "</div>"
      ],
      "text/plain": [
       "       Temperature  Humidity  Wind Speed  general diffuse flows  diffuse flows\n",
       "0            6.559      73.8       0.083                  0.051          0.119\n",
       "1            6.414      74.5       0.083                  0.070          0.085\n",
       "2            6.313      74.5       0.080                  0.062          0.100\n",
       "3            6.121      75.0       0.083                  0.091          0.096\n",
       "4            5.921      75.7       0.081                  0.048          0.085\n",
       "...            ...       ...         ...                    ...            ...\n",
       "52411        7.010      72.4       0.080                  0.040          0.096\n",
       "52412        6.947      72.6       0.082                  0.051          0.093\n",
       "52413        6.900      72.8       0.086                  0.084          0.074\n",
       "52414        6.758      73.0       0.080                  0.066          0.089\n",
       "52415        6.580      74.1       0.081                  0.062          0.111\n",
       "\n",
       "[52416 rows x 5 columns]"
      ]
     },
     "execution_count": 10,
     "metadata": {},
     "output_type": "execute_result"
    }
   ],
   "source": [
    "dataset"
   ]
  },
  {
   "cell_type": "markdown",
   "id": "c7316681",
   "metadata": {},
   "source": [
    "# 數值"
   ]
  },
  {
   "cell_type": "code",
   "execution_count": 11,
   "id": "0b578e35",
   "metadata": {},
   "outputs": [],
   "source": [
    "from sklearn.metrics import mean_squared_error #MSE\n",
    "from sklearn.metrics import mean_absolute_error #MAE\n",
    "from sklearn.metrics import mean_absolute_percentage_error#MAPE\n",
    "import tensorflow as tf\n",
    "def MAE(y_true, predictions):\n",
    "    y_true, predictions = np.array(y_true), np.array(predictions)\n",
    "    return np.mean(np.abs(y_true - predictions))\n",
    "\n",
    "def MSE(actual, pred): \n",
    "    actual, pred = np.array(actual), np.array(pred)\n",
    "    return np.square(np.subtract(actual,pred)).mean() \n",
    "\n",
    "def MAPE(y_true, y_pred): \n",
    "    y_true, y_pred = np.array(y_true), np.array(y_pred)\n",
    "    return np.mean(np.abs((y_true - y_pred) / y_true))"
   ]
  },
  {
   "cell_type": "code",
   "execution_count": 12,
   "id": "84e90a56",
   "metadata": {},
   "outputs": [],
   "source": [
    "#匯入資料\n",
    "dataset = pd.read_csv('Part1Data.csv')"
   ]
  },
  {
   "cell_type": "code",
   "execution_count": 13,
   "id": "27928f77",
   "metadata": {},
   "outputs": [],
   "source": [
    "# 正規化\n",
    "from sklearn.preprocessing import MinMaxScaler\n",
    "scaler = MinMaxScaler()\n",
    "dataset_1 = scaler.fit_transform(dataset)\n",
    "dataset_2 = pd.DataFrame(dataset_1,columns=dataset.columns)\n",
    "dataset_2\n",
    "\n",
    "# 設定答案\n",
    "dataset_target = dataset_2.pop('Zone1PowerConsumption')\n",
    "dataset_target.loc()[dataset_target == 0]= dataset_target.mean()\n",
    "#丟棄不需用到的資料\n",
    "dataset_2 = dataset_2.drop(\"Zone2PowerConsumption\",axis = 1)\n",
    "dataset_2 = dataset_2.drop(\"Zone3PowerConsumption\",axis = 1)\n",
    "dataset_2 = dataset_2.drop(\"general diffuse flows\",axis = 1)\n",
    "dataset_2 = dataset_2.drop(\"diffuse flows\",axis = 1)\n",
    "dataset_2 = dataset_2.drop(\"IsoverAVE\",axis = 1)"
   ]
  },
  {
   "cell_type": "code",
   "execution_count": 14,
   "id": "a589a366",
   "metadata": {
    "scrolled": true
   },
   "outputs": [
    {
     "data": {
      "text/plain": [
       "array([[7.9215690e-02, 3.2941177e-01, 2.5490194e-04, 7.2627449e-01,\n",
       "        7.7529413e-01],\n",
       "       [3.8901962e-02, 3.2196078e-01, 3.2941176e-04, 1.6039217e-01,\n",
       "        1.6043137e-01],\n",
       "       [6.9529407e-02, 2.8588235e-01, 1.9274510e-02, 8.6274507e-05,\n",
       "        6.3921569e-04],\n",
       "       ...,\n",
       "       [2.1886274e-02, 3.3058825e-01, 1.9266667e-02, 8.1098042e-03,\n",
       "        7.8980392e-03],\n",
       "       [6.1764706e-02, 2.9882351e-01, 3.0980393e-04, 1.0196079e-04,\n",
       "        5.9607840e-04],\n",
       "       [4.0627450e-02, 2.8941178e-01, 3.4117646e-04, 1.5686275e-04,\n",
       "        4.6666668e-04]], dtype=float32)"
      ]
     },
     "execution_count": 14,
     "metadata": {},
     "output_type": "execute_result"
    }
   ],
   "source": [
    "X_test"
   ]
  },
  {
   "cell_type": "code",
   "execution_count": 15,
   "id": "217b3a66",
   "metadata": {},
   "outputs": [],
   "source": [
    "# 分割資料\n",
    "from sklearn.model_selection import train_test_split\n",
    "X_train, X_test, Y_train, Y_test = train_test_split( dataset_2 , dataset_target , test_size = 0.2)"
   ]
  },
  {
   "cell_type": "code",
   "execution_count": 16,
   "id": "99172ff7",
   "metadata": {
    "scrolled": false
   },
   "outputs": [
    {
     "name": "stdout",
     "output_type": "stream",
     "text": [
      "(41932, 3)\n",
      "(10484, 3)\n",
      "(10484,)\n"
     ]
    }
   ],
   "source": [
    "print(X_train.shape)\n",
    "print(X_test.shape)\n",
    "print(Y_test.shape)"
   ]
  },
  {
   "cell_type": "code",
   "execution_count": 17,
   "id": "1920adba",
   "metadata": {
    "scrolled": true
   },
   "outputs": [
    {
     "name": "stdout",
     "output_type": "stream",
     "text": [
      "Model: \"sequential_1\"\n",
      "_________________________________________________________________\n",
      "Layer (type)                 Output Shape              Param #   \n",
      "=================================================================\n",
      "dense_3 (Dense)              (None, 5)                 20        \n",
      "_________________________________________________________________\n",
      "dense_4 (Dense)              (None, 64)                384       \n",
      "_________________________________________________________________\n",
      "dense_5 (Dense)              (None, 1)                 65        \n",
      "=================================================================\n",
      "Total params: 469\n",
      "Trainable params: 469\n",
      "Non-trainable params: 0\n",
      "_________________________________________________________________\n"
     ]
    }
   ],
   "source": [
    "#建立Sequential物件\n",
    "network = models.Sequential()\n",
    "network.add(layers.Dense(5, activation='relu', input_shape=(X_train.shape[1],)))\n",
    "network.add(layers.Dense(64, activation='relu'))\n",
    "network.add(layers.Dense(1))\n",
    "network.compile(optimizer='RMSprop', loss='mse',metrics=[tf.keras.metrics.mae,tf.keras.metrics.mape,tf.metrics.mse] )\n",
    "network.summary()"
   ]
  },
  {
   "cell_type": "code",
   "execution_count": 18,
   "id": "f5d2536f",
   "metadata": {},
   "outputs": [
    {
     "name": "stdout",
     "output_type": "stream",
     "text": [
      "Epoch 1/50\n",
      "839/839 [==============================] - 0s 529us/step - loss: 0.0297 - mean_absolute_error: 0.1388 - mean_absolute_percentage_error: 37.6314 - mean_squared_error: 0.0297\n",
      "Epoch 2/50\n",
      "839/839 [==============================] - 0s 548us/step - loss: 0.0272 - mean_absolute_error: 0.1335 - mean_absolute_percentage_error: 36.4265 - mean_squared_error: 0.0272\n",
      "Epoch 3/50\n",
      "839/839 [==============================] - 0s 524us/step - loss: 0.0272 - mean_absolute_error: 0.1331 - mean_absolute_percentage_error: 36.3663 - mean_squared_error: 0.0272\n",
      "Epoch 4/50\n",
      "839/839 [==============================] - 0s 529us/step - loss: 0.0271 - mean_absolute_error: 0.1327 - mean_absolute_percentage_error: 36.2516 - mean_squared_error: 0.0271\n",
      "Epoch 5/50\n",
      "839/839 [==============================] - 0s 531us/step - loss: 0.0270 - mean_absolute_error: 0.1324 - mean_absolute_percentage_error: 35.9399 - mean_squared_error: 0.0270\n",
      "Epoch 6/50\n",
      "839/839 [==============================] - 0s 545us/step - loss: 0.0270 - mean_absolute_error: 0.1323 - mean_absolute_percentage_error: 36.1417 - mean_squared_error: 0.0270\n",
      "Epoch 7/50\n",
      "839/839 [==============================] - 0s 550us/step - loss: 0.0269 - mean_absolute_error: 0.1322 - mean_absolute_percentage_error: 35.9977 - mean_squared_error: 0.0269\n",
      "Epoch 8/50\n",
      "839/839 [==============================] - 0s 572us/step - loss: 0.0269 - mean_absolute_error: 0.1320 - mean_absolute_percentage_error: 36.0538 - mean_squared_error: 0.0269\n",
      "Epoch 9/50\n",
      "839/839 [==============================] - 0s 523us/step - loss: 0.0268 - mean_absolute_error: 0.1318 - mean_absolute_percentage_error: 35.8975 - mean_squared_error: 0.0268\n",
      "Epoch 10/50\n",
      "839/839 [==============================] - 0s 527us/step - loss: 0.0267 - mean_absolute_error: 0.1316 - mean_absolute_percentage_error: 35.9204 - mean_squared_error: 0.0267\n",
      "Epoch 11/50\n",
      "839/839 [==============================] - 0s 527us/step - loss: 0.0267 - mean_absolute_error: 0.1314 - mean_absolute_percentage_error: 35.8961 - mean_squared_error: 0.0267\n",
      "Epoch 12/50\n",
      "839/839 [==============================] - 0s 522us/step - loss: 0.0266 - mean_absolute_error: 0.1311 - mean_absolute_percentage_error: 35.7950 - mean_squared_error: 0.0266\n",
      "Epoch 13/50\n",
      "839/839 [==============================] - 0s 555us/step - loss: 0.0266 - mean_absolute_error: 0.1310 - mean_absolute_percentage_error: 35.6258 - mean_squared_error: 0.0266\n",
      "Epoch 14/50\n",
      "839/839 [==============================] - 0s 548us/step - loss: 0.0265 - mean_absolute_error: 0.1309 - mean_absolute_percentage_error: 36.0069 - mean_squared_error: 0.0265\n",
      "Epoch 15/50\n",
      "839/839 [==============================] - 1s 622us/step - loss: 0.0265 - mean_absolute_error: 0.1309 - mean_absolute_percentage_error: 35.6846 - mean_squared_error: 0.0265\n",
      "Epoch 16/50\n",
      "839/839 [==============================] - 1s 681us/step - loss: 0.0264 - mean_absolute_error: 0.1306 - mean_absolute_percentage_error: 35.7385 - mean_squared_error: 0.0264\n",
      "Epoch 17/50\n",
      "839/839 [==============================] - 0s 585us/step - loss: 0.0264 - mean_absolute_error: 0.1305 - mean_absolute_percentage_error: 35.5203 - mean_squared_error: 0.0264\n",
      "Epoch 18/50\n",
      "839/839 [==============================] - 0s 591us/step - loss: 0.0263 - mean_absolute_error: 0.1303 - mean_absolute_percentage_error: 35.5294 - mean_squared_error: 0.0263\n",
      "Epoch 19/50\n",
      "839/839 [==============================] - 0s 562us/step - loss: 0.0263 - mean_absolute_error: 0.1302 - mean_absolute_percentage_error: 35.5713 - mean_squared_error: 0.0263\n",
      "Epoch 20/50\n",
      "839/839 [==============================] - 0s 526us/step - loss: 0.0262 - mean_absolute_error: 0.1300 - mean_absolute_percentage_error: 35.3732 - mean_squared_error: 0.0262\n",
      "Epoch 21/50\n",
      "839/839 [==============================] - 0s 524us/step - loss: 0.0262 - mean_absolute_error: 0.1298 - mean_absolute_percentage_error: 35.2573 - mean_squared_error: 0.0262\n",
      "Epoch 22/50\n",
      "839/839 [==============================] - 0s 537us/step - loss: 0.0262 - mean_absolute_error: 0.1299 - mean_absolute_percentage_error: 35.2732 - mean_squared_error: 0.0262\n",
      "Epoch 23/50\n",
      "839/839 [==============================] - 0s 590us/step - loss: 0.0261 - mean_absolute_error: 0.1298 - mean_absolute_percentage_error: 35.5194 - mean_squared_error: 0.0261\n",
      "Epoch 24/50\n",
      "839/839 [==============================] - 0s 524us/step - loss: 0.0261 - mean_absolute_error: 0.1297 - mean_absolute_percentage_error: 35.3611 - mean_squared_error: 0.0261\n",
      "Epoch 25/50\n",
      "839/839 [==============================] - 1s 617us/step - loss: 0.0261 - mean_absolute_error: 0.1296 - mean_absolute_percentage_error: 35.4637 - mean_squared_error: 0.0261\n",
      "Epoch 26/50\n",
      "839/839 [==============================] - 1s 603us/step - loss: 0.0261 - mean_absolute_error: 0.1297 - mean_absolute_percentage_error: 35.3234 - mean_squared_error: 0.0261\n",
      "Epoch 27/50\n",
      "839/839 [==============================] - 1s 666us/step - loss: 0.0261 - mean_absolute_error: 0.1297 - mean_absolute_percentage_error: 35.5166 - mean_squared_error: 0.0261\n",
      "Epoch 28/50\n",
      "839/839 [==============================] - 0s 581us/step - loss: 0.0261 - mean_absolute_error: 0.1295 - mean_absolute_percentage_error: 35.3119 - mean_squared_error: 0.0261\n",
      "Epoch 29/50\n",
      "839/839 [==============================] - 1s 644us/step - loss: 0.0261 - mean_absolute_error: 0.1295 - mean_absolute_percentage_error: 35.4450 - mean_squared_error: 0.0261\n",
      "Epoch 30/50\n",
      "839/839 [==============================] - 0s 590us/step - loss: 0.0260 - mean_absolute_error: 0.1294 - mean_absolute_percentage_error: 35.1941 - mean_squared_error: 0.0260\n",
      "Epoch 31/50\n",
      "839/839 [==============================] - 0s 557us/step - loss: 0.0260 - mean_absolute_error: 0.1293 - mean_absolute_percentage_error: 35.1166 - mean_squared_error: 0.0260\n",
      "Epoch 32/50\n",
      "839/839 [==============================] - 0s 532us/step - loss: 0.0260 - mean_absolute_error: 0.1294 - mean_absolute_percentage_error: 35.4232 - mean_squared_error: 0.0260\n",
      "Epoch 33/50\n",
      "839/839 [==============================] - 0s 580us/step - loss: 0.0261 - mean_absolute_error: 0.1295 - mean_absolute_percentage_error: 35.2743 - mean_squared_error: 0.0261\n",
      "Epoch 34/50\n",
      "839/839 [==============================] - 0s 596us/step - loss: 0.0260 - mean_absolute_error: 0.1293 - mean_absolute_percentage_error: 35.1486 - mean_squared_error: 0.0260\n",
      "Epoch 35/50\n",
      "839/839 [==============================] - 0s 576us/step - loss: 0.0259 - mean_absolute_error: 0.1293 - mean_absolute_percentage_error: 35.5934 - mean_squared_error: 0.0259\n",
      "Epoch 36/50\n",
      "839/839 [==============================] - 0s 569us/step - loss: 0.0260 - mean_absolute_error: 0.1292 - mean_absolute_percentage_error: 35.2355 - mean_squared_error: 0.0260\n",
      "Epoch 37/50\n",
      "839/839 [==============================] - 0s 517us/step - loss: 0.0259 - mean_absolute_error: 0.1292 - mean_absolute_percentage_error: 35.2032 - mean_squared_error: 0.0259\n",
      "Epoch 38/50\n",
      "839/839 [==============================] - 0s 560us/step - loss: 0.0260 - mean_absolute_error: 0.1293 - mean_absolute_percentage_error: 35.2800 - mean_squared_error: 0.0260\n",
      "Epoch 39/50\n",
      "839/839 [==============================] - 0s 570us/step - loss: 0.0260 - mean_absolute_error: 0.1292 - mean_absolute_percentage_error: 35.3146 - mean_squared_error: 0.0260\n",
      "Epoch 40/50\n",
      "839/839 [==============================] - 1s 603us/step - loss: 0.0259 - mean_absolute_error: 0.1292 - mean_absolute_percentage_error: 35.0777 - mean_squared_error: 0.0259\n",
      "Epoch 41/50\n",
      "839/839 [==============================] - 0s 511us/step - loss: 0.0259 - mean_absolute_error: 0.1291 - mean_absolute_percentage_error: 35.2113 - mean_squared_error: 0.0259\n",
      "Epoch 42/50\n",
      "839/839 [==============================] - 0s 518us/step - loss: 0.0259 - mean_absolute_error: 0.1291 - mean_absolute_percentage_error: 35.2635 - mean_squared_error: 0.0259\n",
      "Epoch 43/50\n",
      "839/839 [==============================] - 0s 512us/step - loss: 0.0259 - mean_absolute_error: 0.1291 - mean_absolute_percentage_error: 35.2860 - mean_squared_error: 0.0259\n",
      "Epoch 44/50\n",
      "839/839 [==============================] - 0s 536us/step - loss: 0.0259 - mean_absolute_error: 0.1291 - mean_absolute_percentage_error: 35.2168 - mean_squared_error: 0.0259\n",
      "Epoch 45/50\n"
     ]
    },
    {
     "name": "stdout",
     "output_type": "stream",
     "text": [
      "839/839 [==============================] - 0s 517us/step - loss: 0.0259 - mean_absolute_error: 0.1290 - mean_absolute_percentage_error: 35.1876 - mean_squared_error: 0.0259\n",
      "Epoch 46/50\n",
      "839/839 [==============================] - 1s 638us/step - loss: 0.0259 - mean_absolute_error: 0.1290 - mean_absolute_percentage_error: 35.1879 - mean_squared_error: 0.0259\n",
      "Epoch 47/50\n",
      "839/839 [==============================] - 1s 600us/step - loss: 0.0259 - mean_absolute_error: 0.1291 - mean_absolute_percentage_error: 35.2390 - mean_squared_error: 0.0259\n",
      "Epoch 48/50\n",
      "839/839 [==============================] - 0s 553us/step - loss: 0.0259 - mean_absolute_error: 0.1290 - mean_absolute_percentage_error: 35.2370 - mean_squared_error: 0.0259\n",
      "Epoch 49/50\n",
      "839/839 [==============================] - 0s 544us/step - loss: 0.0259 - mean_absolute_error: 0.1290 - mean_absolute_percentage_error: 35.1662 - mean_squared_error: 0.0259\n",
      "Epoch 50/50\n",
      "839/839 [==============================] - 0s 585us/step - loss: 0.0259 - mean_absolute_error: 0.1289 - mean_absolute_percentage_error: 35.1861 - mean_squared_error: 0.0259\n"
     ]
    }
   ],
   "source": [
    "history = network.fit(X_train,Y_train,\n",
    "epochs=50,\n",
    "batch_size=50)"
   ]
  },
  {
   "cell_type": "code",
   "execution_count": 19,
   "id": "50d58445",
   "metadata": {},
   "outputs": [
    {
     "data": {
      "image/png": "[encoded data removed]",
      "text/plain": [
       "<Figure size 576x360 with 1 Axes>"
      ]
     },
     "metadata": {
      "needs_background": "light"
     },
     "output_type": "display_data"
    }
   ],
   "source": [
    "history.history['mean_absolute_percentage_error']=list(map(lambda x:x/100, history.history['mean_absolute_percentage_error']))\n",
    "pd.DataFrame(history.history).plot(figsize = (8, 5))\n",
    "plt.grid(True)\n",
    "plt.gca().set_ylim(0, 1)\n",
    "plt.show()"
   ]
  },
  {
   "cell_type": "code",
   "execution_count": 20,
   "id": "83684d45",
   "metadata": {},
   "outputs": [
    {
     "data": {
      "text/plain": [
       "array([[0.52212274],\n",
       "       [0.45746765],\n",
       "       [0.6872831 ],\n",
       "       ...,\n",
       "       [0.46518463],\n",
       "       [0.55811054],\n",
       "       [0.4929194 ]], dtype=float32)"
      ]
     },
     "execution_count": 20,
     "metadata": {},
     "output_type": "execute_result"
    }
   ],
   "source": [
    "network.predict(X_test)"
   ]
  },
  {
   "cell_type": "code",
   "execution_count": 21,
   "id": "84fe665b",
   "metadata": {},
   "outputs": [
    {
     "data": {
      "text/plain": [
       "46573    0.378777\n",
       "44072    0.259905\n",
       "28731    0.785016\n",
       "2039     0.064711\n",
       "47259    0.203521\n",
       "           ...   \n",
       "50608    0.449881\n",
       "14589    0.281429\n",
       "41177    0.571329\n",
       "29823    0.445671\n",
       "42902    0.492696\n",
       "Name: Zone1PowerConsumption, Length: 10484, dtype: float64"
      ]
     },
     "execution_count": 21,
     "metadata": {},
     "output_type": "execute_result"
    }
   ],
   "source": [
    "Y_test"
   ]
  },
  {
   "cell_type": "markdown",
   "id": "65072a42",
   "metadata": {},
   "source": [
    "Y_test.to_csv(\"AdultsDataSet_Finaltrain.csv\",index=False)"
   ]
  }
 ],
 "metadata": {
  "kernelspec": {
   "display_name": "Python 3",
   "language": "python",
   "name": "python3"
  },
  "language_info": {
   "codemirror_mode": {
    "name": "ipython",
    "version": 3
   },
   "file_extension": ".py",
   "mimetype": "text/x-python",
   "name": "python",
   "nbconvert_exporter": "python",
   "pygments_lexer": "ipython3",
   "version": "3.8.8"
  }
 },
 "nbformat": 4,
 "nbformat_minor": 5
}
