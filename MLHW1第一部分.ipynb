{
 "cells": [
  {
   "cell_type": "markdown",
   "id": "c2a66fae",
   "metadata": {},
   "source": [
    "# 類別"
   ]
  },
  {
   "cell_type": "code",
   "execution_count": 1,
   "id": "d5251f0c",
   "metadata": {},
   "outputs": [],
   "source": [
    "# 預處理\n",
    "import numpy as np\n",
    "\n",
    "import pandas as pd\n",
    "from sklearn.model_selection import train_test_split\n",
    "from keras.datasets import mnist\n",
    "from keras import models \n",
    "from keras import layers\n",
    "from keras.utils import np_utils\n",
    "from tensorflow.keras.utils import to_categorical\n",
    "from keras import backend as K\n",
    "from keras.layers import Dense, Activation, Flatten\n",
    "from matplotlib import pyplot as plt\n",
    "import tensorflow as tf\n",
    "\n",
    "dataset = pd.read_csv('Part1Data.csv')"
   ]
  },
  {
   "cell_type": "code",
   "execution_count": 2,
   "id": "5d2b424d",
   "metadata": {},
   "outputs": [],
   "source": [
    "# 設定答案\n",
    "dataset_target = dataset.pop('IsoverAVE')\n",
    "dataset = dataset.drop(\"Zone1PowerConsumption\",axis = 1)\n",
    "dataset = dataset.drop(\"Zone2PowerConsumption\",axis = 1)\n",
    "dataset = dataset.drop(\"Zone3PowerConsumption\",axis = 1)\n",
    "# 定義\n",
    "def recall(y_true, y_pred):\n",
    "    true_positives = K.sum(K.round(K.clip(y_true * y_pred, 0, 1)))\n",
    "    possible_positives = K.sum(K.round(K.clip(y_true, 0, 1)))\n",
    "    recall = true_positives / (possible_positives + K.epsilon())\n",
    "    return recall\n",
    "\n",
    "def precision(y_true, y_pred):\n",
    "    true_positives = K.sum(K.round(K.clip(y_true * y_pred, 0, 1)))\n",
    "    predicted_positives = K.sum(K.round(K.clip(y_pred, 0, 1)))\n",
    "    precision = true_positives / (predicted_positives + K.epsilon())\n",
    "    return precision"
   ]
  },
  {
   "cell_type": "code",
   "execution_count": 3,
   "id": "1672836b",
   "metadata": {},
   "outputs": [
    {
     "name": "stdout",
     "output_type": "stream",
     "text": [
      "(41932, 5) (10484, 5)\n"
     ]
    }
   ],
   "source": [
    "# 分割資料\n",
    "from sklearn.model_selection import train_test_split\n",
    "X_train, X_test, Y_train, Y_test = train_test_split( dataset , dataset_target , test_size = 0.2)\n",
    "print(X_train.shape , X_test.shape)"
   ]
  },
  {
   "cell_type": "code",
   "execution_count": 4,
   "id": "03218449",
   "metadata": {},
   "outputs": [],
   "source": [
    "# 正規化\n",
    "X_train = X_train.values.reshape(41932, 5)\n",
    "X_test = X_test.values.reshape(10484, 5)\n",
    "X_train = X_train.astype('float32')\n",
    "X_test = X_test.astype('float32')\n",
    "\n",
    "#正規化測試資料 (0到1之間)\n",
    "X_train /= 255\n",
    "X_test /= 255\n",
    "\n",
    "#標籤向量化\n",
    "Y_train = np.asarray(Y_train).astype('float32')\n",
    "Y_test = np.asarray(Y_test).astype('float32')"
   ]
  },
  {
   "cell_type": "code",
   "execution_count": 5,
   "id": "51bac747",
   "metadata": {},
   "outputs": [
    {
     "name": "stdout",
     "output_type": "stream",
     "text": [
      "Model: \"sequential\"\n",
      "_________________________________________________________________\n",
      "Layer (type)                 Output Shape              Param #   \n",
      "=================================================================\n",
      "dense (Dense)                (None, 1000)              6000      \n",
      "_________________________________________________________________\n",
      "dense_1 (Dense)              (None, 10)                10010     \n",
      "_________________________________________________________________\n",
      "dense_2 (Dense)              (None, 1)                 11        \n",
      "=================================================================\n",
      "Total params: 16,021\n",
      "Trainable params: 16,021\n",
      "Non-trainable params: 0\n",
      "_________________________________________________________________\n"
     ]
    }
   ],
   "source": [
    "#建構模型\n",
    "network = models.Sequential()\n",
    "network.add(layers.Dense(1000, activation='relu', input_shape=(X_train.shape[1],)))\n",
    "network.add(layers.Dense(10, activation='relu'))\n",
    "network.add(layers.Dense(1, activation='sigmoid'))\n",
    "network.compile(optimizer='rmsprop', loss='binary_crossentropy',metrics=['acc',precision, recall])\n",
    "network.summary()"
   ]
  },
  {
   "cell_type": "code",
   "execution_count": 6,
   "id": "67be539b",
   "metadata": {
    "scrolled": false
   },
   "outputs": [
    {
     "name": "stdout",
     "output_type": "stream",
     "text": [
      "Epoch 1/50\n",
      "168/168 [==============================] - 0s 2ms/step - loss: 0.6325 - acc: 0.6265 - precision: 0.6678 - recall: 0.5016 - val_loss: 0.6165 - val_acc: 0.6527 - val_precision: 0.6554 - val_recall: 0.6199\n",
      "Epoch 2/50\n",
      "168/168 [==============================] - 0s 974us/step - loss: 0.6051 - acc: 0.6580 - precision: 0.6842 - recall: 0.5883 - val_loss: 0.6049 - val_acc: 0.6534 - val_precision: 0.7092 - val_recall: 0.4996\n",
      "Epoch 3/50\n",
      "168/168 [==============================] - 0s 951us/step - loss: 0.5970 - acc: 0.6660 - precision: 0.6816 - recall: 0.6254 - val_loss: 0.5963 - val_acc: 0.6634 - val_precision: 0.6960 - val_recall: 0.5598\n",
      "Epoch 4/50\n",
      "168/168 [==============================] - 0s 947us/step - loss: 0.5930 - acc: 0.6660 - precision: 0.6790 - recall: 0.6355 - val_loss: 0.6089 - val_acc: 0.6548 - val_precision: 0.6139 - val_recall: 0.8030\n",
      "Epoch 5/50\n",
      "168/168 [==============================] - 0s 982us/step - loss: 0.5906 - acc: 0.6661 - precision: 0.6745 - recall: 0.6472 - val_loss: 0.5904 - val_acc: 0.6596 - val_precision: 0.6482 - val_recall: 0.6728\n",
      "Epoch 6/50\n",
      "168/168 [==============================] - 0s 978us/step - loss: 0.5878 - acc: 0.6669 - precision: 0.6738 - recall: 0.6513 - val_loss: 0.5909 - val_acc: 0.6662 - val_precision: 0.6470 - val_recall: 0.7061\n",
      "Epoch 7/50\n",
      "168/168 [==============================] - 0s 963us/step - loss: 0.5864 - acc: 0.6662 - precision: 0.6710 - recall: 0.6579 - val_loss: 0.5941 - val_acc: 0.6640 - val_precision: 0.7060 - val_recall: 0.5413\n",
      "Epoch 8/50\n",
      "168/168 [==============================] - 0s 959us/step - loss: 0.5846 - acc: 0.6700 - precision: 0.6741 - recall: 0.6622 - val_loss: 0.5957 - val_acc: 0.6513 - val_precision: 0.6168 - val_recall: 0.7680\n",
      "Epoch 9/50\n",
      "168/168 [==============================] - 0s 1ms/step - loss: 0.5838 - acc: 0.6694 - precision: 0.6747 - recall: 0.6606 - val_loss: 0.5894 - val_acc: 0.6603 - val_precision: 0.6261 - val_recall: 0.7662\n",
      "Epoch 10/50\n",
      "168/168 [==============================] - 0s 1ms/step - loss: 0.5834 - acc: 0.6661 - precision: 0.6712 - recall: 0.6590 - val_loss: 0.5845 - val_acc: 0.6642 - val_precision: 0.6510 - val_recall: 0.6832\n",
      "Epoch 11/50\n",
      "168/168 [==============================] - 0s 976us/step - loss: 0.5819 - acc: 0.6691 - precision: 0.6755 - recall: 0.6570 - val_loss: 0.5830 - val_acc: 0.6676 - val_precision: 0.6581 - val_recall: 0.6739\n",
      "Epoch 12/50\n",
      "168/168 [==============================] - 0s 976us/step - loss: 0.5805 - acc: 0.6713 - precision: 0.6767 - recall: 0.6580 - val_loss: 0.5877 - val_acc: 0.6623 - val_precision: 0.6280 - val_recall: 0.7680\n",
      "Epoch 13/50\n",
      "168/168 [==============================] - 0s 1ms/step - loss: 0.5800 - acc: 0.6683 - precision: 0.6741 - recall: 0.6558 - val_loss: 0.5976 - val_acc: 0.6611 - val_precision: 0.6241 - val_recall: 0.7814\n",
      "Epoch 14/50\n",
      "168/168 [==============================] - 0s 993us/step - loss: 0.5786 - acc: 0.6708 - precision: 0.6773 - recall: 0.6610 - val_loss: 0.5898 - val_acc: 0.6669 - val_precision: 0.7157 - val_recall: 0.5346\n",
      "Epoch 15/50\n",
      "168/168 [==============================] - 0s 1ms/step - loss: 0.5781 - acc: 0.6714 - precision: 0.6790 - recall: 0.6572 - val_loss: 0.5921 - val_acc: 0.6628 - val_precision: 0.6244 - val_recall: 0.7880\n",
      "Epoch 16/50\n",
      "168/168 [==============================] - 0s 1ms/step - loss: 0.5761 - acc: 0.6736 - precision: 0.6819 - recall: 0.6551 - val_loss: 0.5842 - val_acc: 0.6626 - val_precision: 0.6638 - val_recall: 0.6349\n",
      "Epoch 17/50\n",
      "168/168 [==============================] - 0s 958us/step - loss: 0.5757 - acc: 0.6743 - precision: 0.6821 - recall: 0.6585 - val_loss: 0.5834 - val_acc: 0.6720 - val_precision: 0.6634 - val_recall: 0.6763\n",
      "Epoch 18/50\n",
      "168/168 [==============================] - 0s 1ms/step - loss: 0.5753 - acc: 0.6749 - precision: 0.6822 - recall: 0.6590 - val_loss: 0.5781 - val_acc: 0.6739 - val_precision: 0.7114 - val_recall: 0.5663\n",
      "Epoch 19/50\n",
      "168/168 [==============================] - 0s 994us/step - loss: 0.5736 - acc: 0.6759 - precision: 0.6843 - recall: 0.6565 - val_loss: 0.5767 - val_acc: 0.6753 - val_precision: 0.6891 - val_recall: 0.6190\n",
      "Epoch 20/50\n",
      "168/168 [==============================] - 0s 953us/step - loss: 0.5739 - acc: 0.6781 - precision: 0.6895 - recall: 0.6544 - val_loss: 0.5744 - val_acc: 0.6782 - val_precision: 0.6939 - val_recall: 0.6184\n",
      "Epoch 21/50\n",
      "168/168 [==============================] - 0s 973us/step - loss: 0.5720 - acc: 0.6782 - precision: 0.6900 - recall: 0.6541 - val_loss: 0.5799 - val_acc: 0.6710 - val_precision: 0.6647 - val_recall: 0.6674\n",
      "Epoch 22/50\n",
      "168/168 [==============================] - 0s 979us/step - loss: 0.5709 - acc: 0.6793 - precision: 0.6899 - recall: 0.6524 - val_loss: 0.5821 - val_acc: 0.6675 - val_precision: 0.6353 - val_recall: 0.7597\n",
      "Epoch 23/50\n",
      "168/168 [==============================] - 0s 1ms/step - loss: 0.5714 - acc: 0.6783 - precision: 0.6913 - recall: 0.6502 - val_loss: 0.5730 - val_acc: 0.6773 - val_precision: 0.7005 - val_recall: 0.6006\n",
      "Epoch 24/50\n",
      "168/168 [==============================] - 0s 1ms/step - loss: 0.5699 - acc: 0.6809 - precision: 0.6941 - recall: 0.6509 - val_loss: 0.5719 - val_acc: 0.6816 - val_precision: 0.7211 - val_recall: 0.5751\n",
      "Epoch 25/50\n",
      "168/168 [==============================] - 0s 970us/step - loss: 0.5688 - acc: 0.6802 - precision: 0.6946 - recall: 0.6478 - val_loss: 0.5801 - val_acc: 0.6795 - val_precision: 0.7072 - val_recall: 0.5926\n",
      "Epoch 26/50\n",
      "168/168 [==============================] - 0s 1ms/step - loss: 0.5680 - acc: 0.6832 - precision: 0.6989 - recall: 0.6495 - val_loss: 0.5736 - val_acc: 0.6772 - val_precision: 0.6824 - val_recall: 0.6427\n",
      "Epoch 27/50\n",
      "168/168 [==============================] - 0s 993us/step - loss: 0.5666 - acc: 0.6843 - precision: 0.7005 - recall: 0.6478 - val_loss: 0.5692 - val_acc: 0.6774 - val_precision: 0.6710 - val_recall: 0.6731\n",
      "Epoch 28/50\n",
      "168/168 [==============================] - 0s 982us/step - loss: 0.5664 - acc: 0.6833 - precision: 0.7005 - recall: 0.6457 - val_loss: 0.5681 - val_acc: 0.6808 - val_precision: 0.6888 - val_recall: 0.6398\n",
      "Epoch 29/50\n",
      "168/168 [==============================] - 0s 1ms/step - loss: 0.5660 - acc: 0.6838 - precision: 0.6997 - recall: 0.6460 - val_loss: 0.5698 - val_acc: 0.6795 - val_precision: 0.6614 - val_recall: 0.7124\n",
      "Epoch 30/50\n",
      "168/168 [==============================] - 0s 1ms/step - loss: 0.5653 - acc: 0.6857 - precision: 0.7043 - recall: 0.6455 - val_loss: 0.5661 - val_acc: 0.6855 - val_precision: 0.7153 - val_recall: 0.5982\n",
      "Epoch 31/50\n",
      "168/168 [==============================] - 0s 1ms/step - loss: 0.5641 - acc: 0.6839 - precision: 0.7060 - recall: 0.6370 - val_loss: 0.5681 - val_acc: 0.6796 - val_precision: 0.6708 - val_recall: 0.6835\n",
      "Epoch 32/50\n",
      "168/168 [==============================] - 0s 1ms/step - loss: 0.5632 - acc: 0.6868 - precision: 0.7071 - recall: 0.6429 - val_loss: 0.5666 - val_acc: 0.6817 - val_precision: 0.6903 - val_recall: 0.6386\n",
      "Epoch 33/50\n",
      "168/168 [==============================] - 0s 1ms/step - loss: 0.5632 - acc: 0.6863 - precision: 0.7075 - recall: 0.6406 - val_loss: 0.5708 - val_acc: 0.6855 - val_precision: 0.7450 - val_recall: 0.5475\n",
      "Epoch 34/50\n",
      "168/168 [==============================] - 0s 968us/step - loss: 0.5620 - acc: 0.6859 - precision: 0.7105 - recall: 0.6382 - val_loss: 0.5631 - val_acc: 0.6822 - val_precision: 0.6864 - val_recall: 0.6519\n",
      "Epoch 35/50\n",
      "168/168 [==============================] - 0s 990us/step - loss: 0.5618 - acc: 0.6874 - precision: 0.7104 - recall: 0.6399 - val_loss: 0.5692 - val_acc: 0.6863 - val_precision: 0.7334 - val_recall: 0.5687\n",
      "Epoch 36/50\n",
      "168/168 [==============================] - 0s 974us/step - loss: 0.5601 - acc: 0.6898 - precision: 0.7118 - recall: 0.6417 - val_loss: 0.5636 - val_acc: 0.6851 - val_precision: 0.6908 - val_recall: 0.6498\n",
      "Epoch 37/50\n",
      "168/168 [==============================] - 0s 969us/step - loss: 0.5601 - acc: 0.6899 - precision: 0.7131 - recall: 0.6399 - val_loss: 0.5692 - val_acc: 0.6823 - val_precision: 0.7284 - val_recall: 0.5634\n",
      "Epoch 38/50\n",
      "168/168 [==============================] - 0s 982us/step - loss: 0.5599 - acc: 0.6903 - precision: 0.7150 - recall: 0.6392 - val_loss: 0.5618 - val_acc: 0.6893 - val_precision: 0.7299 - val_recall: 0.5842\n"
     ]
    },
    {
     "name": "stdout",
     "output_type": "stream",
     "text": [
      "Epoch 39/50\n",
      "168/168 [==============================] - 0s 970us/step - loss: 0.5592 - acc: 0.6910 - precision: 0.7161 - recall: 0.6386 - val_loss: 0.5597 - val_acc: 0.6878 - val_precision: 0.7118 - val_recall: 0.6133\n",
      "Epoch 40/50\n",
      "168/168 [==============================] - 0s 988us/step - loss: 0.5583 - acc: 0.6910 - precision: 0.7178 - recall: 0.6362 - val_loss: 0.5606 - val_acc: 0.6857 - val_precision: 0.6848 - val_recall: 0.6667\n",
      "Epoch 41/50\n",
      "168/168 [==============================] - 0s 976us/step - loss: 0.5577 - acc: 0.6905 - precision: 0.7171 - recall: 0.6338 - val_loss: 0.5666 - val_acc: 0.6849 - val_precision: 0.6708 - val_recall: 0.7037\n",
      "Epoch 42/50\n",
      "168/168 [==============================] - 0s 964us/step - loss: 0.5576 - acc: 0.6913 - precision: 0.7193 - recall: 0.6342 - val_loss: 0.5592 - val_acc: 0.6880 - val_precision: 0.7229 - val_recall: 0.5924\n",
      "Epoch 43/50\n",
      "168/168 [==============================] - 0s 964us/step - loss: 0.5566 - acc: 0.6915 - precision: 0.7203 - recall: 0.6314 - val_loss: 0.5694 - val_acc: 0.6913 - val_precision: 0.7367 - val_recall: 0.5788\n",
      "Epoch 44/50\n",
      "168/168 [==============================] - 0s 988us/step - loss: 0.5560 - acc: 0.6935 - precision: 0.7204 - recall: 0.6355 - val_loss: 0.5628 - val_acc: 0.6887 - val_precision: 0.7525 - val_recall: 0.5463\n",
      "Epoch 45/50\n",
      "168/168 [==============================] - 0s 1ms/step - loss: 0.5555 - acc: 0.6942 - precision: 0.7230 - recall: 0.6322 - val_loss: 0.5569 - val_acc: 0.6906 - val_precision: 0.6967 - val_recall: 0.6558\n",
      "Epoch 46/50\n",
      "168/168 [==============================] - 0s 1ms/step - loss: 0.5550 - acc: 0.6933 - precision: 0.7224 - recall: 0.6327 - val_loss: 0.5658 - val_acc: 0.6851 - val_precision: 0.6862 - val_recall: 0.6608\n",
      "Epoch 47/50\n",
      "168/168 [==============================] - 0s 1ms/step - loss: 0.5550 - acc: 0.6941 - precision: 0.7255 - recall: 0.6296 - val_loss: 0.5664 - val_acc: 0.6887 - val_precision: 0.7412 - val_recall: 0.5628\n",
      "Epoch 48/50\n",
      "168/168 [==============================] - 0s 1ms/step - loss: 0.5547 - acc: 0.6931 - precision: 0.7230 - recall: 0.6347 - val_loss: 0.5661 - val_acc: 0.6849 - val_precision: 0.6705 - val_recall: 0.7046\n",
      "Epoch 49/50\n",
      "168/168 [==============================] - 0s 983us/step - loss: 0.5540 - acc: 0.6954 - precision: 0.7268 - recall: 0.6340 - val_loss: 0.5608 - val_acc: 0.6857 - val_precision: 0.6734 - val_recall: 0.6993\n",
      "Epoch 50/50\n",
      "168/168 [==============================] - 0s 985us/step - loss: 0.5538 - acc: 0.6945 - precision: 0.7252 - recall: 0.6320 - val_loss: 0.5835 - val_acc: 0.6790 - val_precision: 0.6556 - val_recall: 0.7300\n"
     ]
    }
   ],
   "source": [
    "history = network.fit(X_train,Y_train,\n",
    "epochs=50,\n",
    "batch_size=250,validation_data=(X_test, Y_test))"
   ]
  },
  {
   "cell_type": "code",
   "execution_count": 7,
   "id": "7d2b4c77",
   "metadata": {},
   "outputs": [
    {
     "data": {
      "image/png": "[encoded data removed]",
      "text/plain": [
       "<Figure size 432x288 with 1 Axes>"
      ]
     },
     "metadata": {
      "needs_background": "light"
     },
     "output_type": "display_data"
    }
   ],
   "source": [
    "loss = history.history[\"loss\"]\n",
    "epochs = range(1, len(loss)+1)\n",
    "plt.plot(epochs, loss, \"bo\", label =\"Training Loss\")\n",
    "plt.plot(epochs, history.history['val_loss'], 'b', label='Validation loss')\n",
    "plt.xlabel(\"Epochs\")\n",
    "plt.ylabel(\"Loss\")\n",
    "plt.legend()\n",
    "plt.show()"
   ]
  },
  {
   "cell_type": "code",
   "execution_count": 8,
   "id": "7ea66316",
   "metadata": {},
   "outputs": [
    {
     "name": "stdout",
     "output_type": "stream",
     "text": [
      "328/328 [==============================] - 0s 390us/step - loss: 0.5835 - acc: 0.6790 - precision: 0.6564 - recall: 0.7321\n",
      "Precision 0.6564362049102783\n",
      "Recall 0.7321454286575317\n",
      "F1 0.6922268810303821\n"
     ]
    }
   ],
   "source": [
    "preds = network.evaluate(x = X_test, y = Y_test)\n",
    "\n",
    "F1 = 2 * (preds[2] * preds[3]) / (preds[2] + preds[3])\n",
    "print('Precision', preds[2])\n",
    "print('Recall', preds[3])\n",
    "print('F1',F1)"
   ]
  },
  {
   "cell_type": "code",
   "execution_count": 9,
   "id": "a5a7e31b",
   "metadata": {},
   "outputs": [
    {
     "data": {
      "image/png": "[encoded data removed]",
      "text/plain": [
       "<Figure size 576x360 with 1 Axes>"
      ]
     },
     "metadata": {
      "needs_background": "light"
     },
     "output_type": "display_data"
    }
   ],
   "source": [
    "pd.DataFrame(history.history).plot(figsize = (8, 5))\n",
    "plt.grid(True)\n",
    "plt.gca().set_ylim(0, 2)\n",
    "plt.show()"
   ]
  },
  {
   "cell_type": "markdown",
   "id": "c7316681",
   "metadata": {},
   "source": [
    "# 數值"
   ]
  },
  {
   "cell_type": "code",
   "execution_count": 10,
   "id": "0b578e35",
   "metadata": {},
   "outputs": [],
   "source": [
    "from sklearn.metrics import mean_squared_error #MSE\n",
    "from sklearn.metrics import mean_absolute_error #MAE\n",
    "from sklearn.metrics import mean_absolute_percentage_error#MAPE\n",
    "import tensorflow as tf\n",
    "def MAE(y_true, predictions):\n",
    "    y_true, predictions = np.array(y_true), np.array(predictions)\n",
    "    return np.mean(np.abs(y_true - predictions))\n",
    "\n",
    "def MSE(actual, pred): \n",
    "    actual, pred = np.array(actual), np.array(pred)\n",
    "    return np.square(np.subtract(actual,pred)).mean() \n",
    "\n",
    "def MAPE(y_true, y_pred): \n",
    "    y_true, y_pred = np.array(y_true), np.array(y_pred)\n",
    "    return np.mean(np.abs((y_true - y_pred) / y_true))"
   ]
  },
  {
   "cell_type": "code",
   "execution_count": 11,
   "id": "84e90a56",
   "metadata": {},
   "outputs": [],
   "source": [
    "#匯入資料\n",
    "dataset = pd.read_csv('Part1Data.csv')"
   ]
  },
  {
   "cell_type": "code",
   "execution_count": 12,
   "id": "27928f77",
   "metadata": {},
   "outputs": [],
   "source": [
    "# 設定答案\n",
    "dataset_target = dataset.pop('Zone1PowerConsumption')\n",
    "#丟棄不需用到的資料\n",
    "dataset = dataset.drop(\"Zone2PowerConsumption\",axis = 1)\n",
    "dataset = dataset.drop(\"Zone3PowerConsumption\",axis = 1)\n",
    "dataset = dataset.drop(\"IsoverAVE\",axis = 1)"
   ]
  },
  {
   "cell_type": "code",
   "execution_count": 13,
   "id": "6f4f661b",
   "metadata": {},
   "outputs": [
    {
     "data": {
      "text/html": [
       "<div>\n",
       "<style scoped>\n",
       "    .dataframe tbody tr th:only-of-type {\n",
       "        vertical-align: middle;\n",
       "    }\n",
       "\n",
       "    .dataframe tbody tr th {\n",
       "        vertical-align: top;\n",
       "    }\n",
       "\n",
       "    .dataframe thead th {\n",
       "        text-align: right;\n",
       "    }\n",
       "</style>\n",
       "<table border=\"1\" class=\"dataframe\">\n",
       "  <thead>\n",
       "    <tr style=\"text-align: right;\">\n",
       "      <th></th>\n",
       "      <th>Temperature</th>\n",
       "      <th>Humidity</th>\n",
       "      <th>Wind Speed</th>\n",
       "      <th>general diffuse flows</th>\n",
       "      <th>diffuse flows</th>\n",
       "    </tr>\n",
       "  </thead>\n",
       "  <tbody>\n",
       "    <tr>\n",
       "      <th>0</th>\n",
       "      <td>0.090091</td>\n",
       "      <td>0.748382</td>\n",
       "      <td>0.005130</td>\n",
       "      <td>0.000040</td>\n",
       "      <td>0.000115</td>\n",
       "    </tr>\n",
       "    <tr>\n",
       "      <th>1</th>\n",
       "      <td>0.086146</td>\n",
       "      <td>0.756770</td>\n",
       "      <td>0.005130</td>\n",
       "      <td>0.000057</td>\n",
       "      <td>0.000079</td>\n",
       "    </tr>\n",
       "    <tr>\n",
       "      <th>2</th>\n",
       "      <td>0.083399</td>\n",
       "      <td>0.756770</td>\n",
       "      <td>0.004663</td>\n",
       "      <td>0.000050</td>\n",
       "      <td>0.000095</td>\n",
       "    </tr>\n",
       "    <tr>\n",
       "      <th>3</th>\n",
       "      <td>0.078176</td>\n",
       "      <td>0.762761</td>\n",
       "      <td>0.005130</td>\n",
       "      <td>0.000075</td>\n",
       "      <td>0.000091</td>\n",
       "    </tr>\n",
       "    <tr>\n",
       "      <th>4</th>\n",
       "      <td>0.072736</td>\n",
       "      <td>0.771148</td>\n",
       "      <td>0.004819</td>\n",
       "      <td>0.000038</td>\n",
       "      <td>0.000079</td>\n",
       "    </tr>\n",
       "    <tr>\n",
       "      <th>...</th>\n",
       "      <td>...</td>\n",
       "      <td>...</td>\n",
       "      <td>...</td>\n",
       "      <td>...</td>\n",
       "      <td>...</td>\n",
       "    </tr>\n",
       "    <tr>\n",
       "      <th>52411</th>\n",
       "      <td>0.102358</td>\n",
       "      <td>0.731608</td>\n",
       "      <td>0.004663</td>\n",
       "      <td>0.000031</td>\n",
       "      <td>0.000091</td>\n",
       "    </tr>\n",
       "    <tr>\n",
       "      <th>52412</th>\n",
       "      <td>0.100645</td>\n",
       "      <td>0.734004</td>\n",
       "      <td>0.004974</td>\n",
       "      <td>0.000040</td>\n",
       "      <td>0.000088</td>\n",
       "    </tr>\n",
       "    <tr>\n",
       "      <th>52413</th>\n",
       "      <td>0.099366</td>\n",
       "      <td>0.736401</td>\n",
       "      <td>0.005596</td>\n",
       "      <td>0.000069</td>\n",
       "      <td>0.000067</td>\n",
       "    </tr>\n",
       "    <tr>\n",
       "      <th>52414</th>\n",
       "      <td>0.095504</td>\n",
       "      <td>0.738797</td>\n",
       "      <td>0.004663</td>\n",
       "      <td>0.000053</td>\n",
       "      <td>0.000083</td>\n",
       "    </tr>\n",
       "    <tr>\n",
       "      <th>52415</th>\n",
       "      <td>0.090662</td>\n",
       "      <td>0.751977</td>\n",
       "      <td>0.004819</td>\n",
       "      <td>0.000050</td>\n",
       "      <td>0.000107</td>\n",
       "    </tr>\n",
       "  </tbody>\n",
       "</table>\n",
       "<p>52416 rows × 5 columns</p>\n",
       "</div>"
      ],
      "text/plain": [
       "       Temperature  Humidity  Wind Speed  general diffuse flows  diffuse flows\n",
       "0         0.090091  0.748382    0.005130               0.000040       0.000115\n",
       "1         0.086146  0.756770    0.005130               0.000057       0.000079\n",
       "2         0.083399  0.756770    0.004663               0.000050       0.000095\n",
       "3         0.078176  0.762761    0.005130               0.000075       0.000091\n",
       "4         0.072736  0.771148    0.004819               0.000038       0.000079\n",
       "...            ...       ...         ...                    ...            ...\n",
       "52411     0.102358  0.731608    0.004663               0.000031       0.000091\n",
       "52412     0.100645  0.734004    0.004974               0.000040       0.000088\n",
       "52413     0.099366  0.736401    0.005596               0.000069       0.000067\n",
       "52414     0.095504  0.738797    0.004663               0.000053       0.000083\n",
       "52415     0.090662  0.751977    0.004819               0.000050       0.000107\n",
       "\n",
       "[52416 rows x 5 columns]"
      ]
     },
     "execution_count": 13,
     "metadata": {},
     "output_type": "execute_result"
    }
   ],
   "source": [
    "#正規化\n",
    "from sklearn.preprocessing import MinMaxScaler\n",
    "scaler = MinMaxScaler()\n",
    "dataset_1 = scaler.fit_transform(dataset)\n",
    "dataset_2 = pd.DataFrame(dataset_1,columns=dataset.columns)\n",
    "dataset_2\n"
   ]
  },
  {
   "cell_type": "code",
   "execution_count": 14,
   "id": "217b3a66",
   "metadata": {},
   "outputs": [],
   "source": [
    "# 分割資料\n",
    "from sklearn.model_selection import train_test_split\n",
    "X_train, X_test, Y_train, Y_test = train_test_split( dataset , dataset_target , test_size = 0.2)"
   ]
  },
  {
   "cell_type": "code",
   "execution_count": 15,
   "id": "99172ff7",
   "metadata": {},
   "outputs": [
    {
     "name": "stdout",
     "output_type": "stream",
     "text": [
      "(41932, 5)\n",
      "(10484, 5)\n",
      "(10484,)\n"
     ]
    }
   ],
   "source": [
    "print(X_train.shape)\n",
    "print(X_test.shape)\n",
    "print(Y_test.shape)"
   ]
  },
  {
   "cell_type": "code",
   "execution_count": 16,
   "id": "1920adba",
   "metadata": {},
   "outputs": [
    {
     "name": "stdout",
     "output_type": "stream",
     "text": [
      "Model: \"sequential_1\"\n",
      "_________________________________________________________________\n",
      "Layer (type)                 Output Shape              Param #   \n",
      "=================================================================\n",
      "dense_3 (Dense)              (None, 64)                384       \n",
      "_________________________________________________________________\n",
      "dense_4 (Dense)              (None, 64)                4160      \n",
      "_________________________________________________________________\n",
      "dense_5 (Dense)              (None, 1)                 65        \n",
      "=================================================================\n",
      "Total params: 4,609\n",
      "Trainable params: 4,609\n",
      "Non-trainable params: 0\n",
      "_________________________________________________________________\n"
     ]
    }
   ],
   "source": [
    "#建立Sequential物件\n",
    "network = models.Sequential()\n",
    "network.add(layers.Dense(64, activation='relu', input_shape=(X_train.shape[1],)))\n",
    "network.add(layers.Dense(64, activation='relu'))\n",
    "network.add(layers.Dense(1))\n",
    "network.compile(optimizer='RMSprop', loss='mse',metrics=[tf.keras.metrics.mae,tf.keras.metrics.mape,tf.metrics.mse] )\n",
    "network.summary()"
   ]
  },
  {
   "cell_type": "code",
   "execution_count": 17,
   "id": "f5d2536f",
   "metadata": {},
   "outputs": [
    {
     "name": "stdout",
     "output_type": "stream",
     "text": [
      "Epoch 1/50\n",
      "839/839 [==============================] - 0s 465us/step - loss: 392326912.0000 - mean_absolute_error: 15721.8779 - mean_absolute_percentage_error: 48.3186 - mean_squared_error: 392326944.0000\n",
      "Epoch 2/50\n",
      "839/839 [==============================] - 0s 443us/step - loss: 62327376.0000 - mean_absolute_error: 6344.5791 - mean_absolute_percentage_error: 20.1990 - mean_squared_error: 62327376.0000\n",
      "Epoch 3/50\n",
      "839/839 [==============================] - 0s 442us/step - loss: 54172704.0000 - mean_absolute_error: 5891.1958 - mean_absolute_percentage_error: 18.8026 - mean_squared_error: 54172704.0000\n",
      "Epoch 4/50\n",
      "839/839 [==============================] - 0s 458us/step - loss: 51488268.0000 - mean_absolute_error: 5727.3716 - mean_absolute_percentage_error: 18.3088 - mean_squared_error: 51488268.0000\n",
      "Epoch 5/50\n",
      "839/839 [==============================] - 0s 441us/step - loss: 50315296.0000 - mean_absolute_error: 5655.6689 - mean_absolute_percentage_error: 18.1009 - mean_squared_error: 50315296.0000\n",
      "Epoch 6/50\n",
      "839/839 [==============================] - 0s 441us/step - loss: 49657236.0000 - mean_absolute_error: 5610.1050 - mean_absolute_percentage_error: 17.9695 - mean_squared_error: 49657236.0000\n",
      "Epoch 7/50\n",
      "839/839 [==============================] - 0s 441us/step - loss: 49157464.0000 - mean_absolute_error: 5579.5923 - mean_absolute_percentage_error: 17.8805 - mean_squared_error: 49157464.0000\n",
      "Epoch 8/50\n",
      "839/839 [==============================] - 0s 436us/step - loss: 48626752.0000 - mean_absolute_error: 5545.6997 - mean_absolute_percentage_error: 17.7775 - mean_squared_error: 48626752.0000\n",
      "Epoch 9/50\n",
      "839/839 [==============================] - 0s 442us/step - loss: 48165964.0000 - mean_absolute_error: 5515.3574 - mean_absolute_percentage_error: 17.6763 - mean_squared_error: 48165964.0000\n",
      "Epoch 10/50\n",
      "839/839 [==============================] - 0s 443us/step - loss: 47760648.0000 - mean_absolute_error: 5490.3931 - mean_absolute_percentage_error: 17.5913 - mean_squared_error: 47760648.0000\n",
      "Epoch 11/50\n",
      "839/839 [==============================] - 0s 457us/step - loss: 47358588.0000 - mean_absolute_error: 5465.4272 - mean_absolute_percentage_error: 17.5168 - mean_squared_error: 47358588.0000\n",
      "Epoch 12/50\n",
      "839/839 [==============================] - 0s 446us/step - loss: 46988852.0000 - mean_absolute_error: 5439.3999 - mean_absolute_percentage_error: 17.4299 - mean_squared_error: 46988852.0000\n",
      "Epoch 13/50\n",
      "839/839 [==============================] - 0s 492us/step - loss: 46668248.0000 - mean_absolute_error: 5421.1646 - mean_absolute_percentage_error: 17.3680 - mean_squared_error: 46668248.0000\n",
      "Epoch 14/50\n",
      "839/839 [==============================] - 0s 493us/step - loss: 46356272.0000 - mean_absolute_error: 5397.2212 - mean_absolute_percentage_error: 17.2973 - mean_squared_error: 46356276.0000\n",
      "Epoch 15/50\n",
      "839/839 [==============================] - 0s 542us/step - loss: 46047500.0000 - mean_absolute_error: 5378.4370 - mean_absolute_percentage_error: 17.2312 - mean_squared_error: 46047500.0000\n",
      "Epoch 16/50\n",
      "839/839 [==============================] - 0s 468us/step - loss: 45759332.0000 - mean_absolute_error: 5361.7217 - mean_absolute_percentage_error: 17.1815 - mean_squared_error: 45759340.0000\n",
      "Epoch 17/50\n",
      "839/839 [==============================] - 0s 522us/step - loss: 45486056.0000 - mean_absolute_error: 5337.6387 - mean_absolute_percentage_error: 17.1066 - mean_squared_error: 45486056.0000\n",
      "Epoch 18/50\n",
      "839/839 [==============================] - 0s 494us/step - loss: 45193888.0000 - mean_absolute_error: 5324.1177 - mean_absolute_percentage_error: 17.0633 - mean_squared_error: 45193888.0000\n",
      "Epoch 19/50\n",
      "839/839 [==============================] - 0s 478us/step - loss: 44908184.0000 - mean_absolute_error: 5305.8765 - mean_absolute_percentage_error: 17.0076 - mean_squared_error: 44908184.0000\n",
      "Epoch 20/50\n",
      "839/839 [==============================] - 0s 461us/step - loss: 44607020.0000 - mean_absolute_error: 5288.7812 - mean_absolute_percentage_error: 16.9587 - mean_squared_error: 44607020.0000\n",
      "Epoch 21/50\n",
      "839/839 [==============================] - 0s 461us/step - loss: 44327628.0000 - mean_absolute_error: 5268.3286 - mean_absolute_percentage_error: 16.8888 - mean_squared_error: 44327628.0000\n",
      "Epoch 22/50\n",
      "839/839 [==============================] - 0s 462us/step - loss: 43989336.0000 - mean_absolute_error: 5246.0679 - mean_absolute_percentage_error: 16.8433 - mean_squared_error: 43989336.0000\n",
      "Epoch 23/50\n",
      "839/839 [==============================] - 0s 491us/step - loss: 43669816.0000 - mean_absolute_error: 5223.2246 - mean_absolute_percentage_error: 16.7718 - mean_squared_error: 43669812.0000\n",
      "Epoch 24/50\n",
      "839/839 [==============================] - 0s 482us/step - loss: 43364072.0000 - mean_absolute_error: 5208.5117 - mean_absolute_percentage_error: 16.7255 - mean_squared_error: 43364072.0000\n",
      "Epoch 25/50\n",
      "839/839 [==============================] - 0s 507us/step - loss: 43089384.0000 - mean_absolute_error: 5191.6611 - mean_absolute_percentage_error: 16.6778 - mean_squared_error: 43089384.0000\n",
      "Epoch 26/50\n",
      "839/839 [==============================] - 0s 461us/step - loss: 42781164.0000 - mean_absolute_error: 5172.1987 - mean_absolute_percentage_error: 16.6105 - mean_squared_error: 42781164.0000\n",
      "Epoch 27/50\n",
      "839/839 [==============================] - 0s 481us/step - loss: 42472340.0000 - mean_absolute_error: 5153.2334 - mean_absolute_percentage_error: 16.5566 - mean_squared_error: 42472340.0000\n",
      "Epoch 28/50\n",
      "839/839 [==============================] - 0s 506us/step - loss: 42151552.0000 - mean_absolute_error: 5137.3540 - mean_absolute_percentage_error: 16.5150 - mean_squared_error: 42151552.0000\n",
      "Epoch 29/50\n",
      "839/839 [==============================] - 0s 556us/step - loss: 41857008.0000 - mean_absolute_error: 5119.3267 - mean_absolute_percentage_error: 16.4543 - mean_squared_error: 41857008.0000\n",
      "Epoch 30/50\n",
      "839/839 [==============================] - 0s 492us/step - loss: 41537108.0000 - mean_absolute_error: 5095.5630 - mean_absolute_percentage_error: 16.3829 - mean_squared_error: 41537108.0000\n",
      "Epoch 31/50\n",
      "839/839 [==============================] - 0s 464us/step - loss: 41218656.0000 - mean_absolute_error: 5080.3589 - mean_absolute_percentage_error: 16.3404 - mean_squared_error: 41218656.0000\n",
      "Epoch 32/50\n",
      "839/839 [==============================] - 0s 484us/step - loss: 40942288.0000 - mean_absolute_error: 5065.3745 - mean_absolute_percentage_error: 16.2925 - mean_squared_error: 40942292.0000\n",
      "Epoch 33/50\n",
      "839/839 [==============================] - 0s 466us/step - loss: 40639920.0000 - mean_absolute_error: 5049.8174 - mean_absolute_percentage_error: 16.2526 - mean_squared_error: 40639920.0000\n",
      "Epoch 34/50\n",
      "839/839 [==============================] - 0s 465us/step - loss: 40349208.0000 - mean_absolute_error: 5033.8677 - mean_absolute_percentage_error: 16.2069 - mean_squared_error: 40349204.0000\n",
      "Epoch 35/50\n",
      "839/839 [==============================] - 0s 471us/step - loss: 40061848.0000 - mean_absolute_error: 5021.7866 - mean_absolute_percentage_error: 16.1807 - mean_squared_error: 40061848.0000\n",
      "Epoch 36/50\n",
      "839/839 [==============================] - 0s 466us/step - loss: 39760676.0000 - mean_absolute_error: 5000.8823 - mean_absolute_percentage_error: 16.1107 - mean_squared_error: 39760676.0000\n",
      "Epoch 37/50\n",
      "839/839 [==============================] - 0s 467us/step - loss: 39558480.0000 - mean_absolute_error: 4988.5322 - mean_absolute_percentage_error: 16.0702 - mean_squared_error: 39558480.0000\n",
      "Epoch 38/50\n",
      "839/839 [==============================] - 0s 468us/step - loss: 39306232.0000 - mean_absolute_error: 4977.3379 - mean_absolute_percentage_error: 16.0482 - mean_squared_error: 39306232.0000\n",
      "Epoch 39/50\n",
      "839/839 [==============================] - 0s 464us/step - loss: 39072280.0000 - mean_absolute_error: 4963.5034 - mean_absolute_percentage_error: 16.0074 - mean_squared_error: 39072280.0000\n",
      "Epoch 40/50\n",
      "839/839 [==============================] - 0s 482us/step - loss: 38889860.0000 - mean_absolute_error: 4955.9087 - mean_absolute_percentage_error: 15.9913 - mean_squared_error: 38889860.0000\n",
      "Epoch 41/50\n"
     ]
    },
    {
     "name": "stdout",
     "output_type": "stream",
     "text": [
      "839/839 [==============================] - 0s 469us/step - loss: 38667388.0000 - mean_absolute_error: 4935.6465 - mean_absolute_percentage_error: 15.9324 - mean_squared_error: 38667388.0000\n",
      "Epoch 42/50\n",
      "839/839 [==============================] - 0s 467us/step - loss: 38528900.0000 - mean_absolute_error: 4932.7114 - mean_absolute_percentage_error: 15.9222 - mean_squared_error: 38528900.0000\n",
      "Epoch 43/50\n",
      "839/839 [==============================] - 0s 466us/step - loss: 38373444.0000 - mean_absolute_error: 4922.5229 - mean_absolute_percentage_error: 15.8943 - mean_squared_error: 38373444.0000\n",
      "Epoch 44/50\n",
      "839/839 [==============================] - 0s 464us/step - loss: 38226248.0000 - mean_absolute_error: 4911.7554 - mean_absolute_percentage_error: 15.8657 - mean_squared_error: 38226244.0000\n",
      "Epoch 45/50\n",
      "839/839 [==============================] - 0s 465us/step - loss: 38124332.0000 - mean_absolute_error: 4906.4766 - mean_absolute_percentage_error: 15.8554 - mean_squared_error: 38124328.0000\n",
      "Epoch 46/50\n",
      "839/839 [==============================] - 0s 469us/step - loss: 38035876.0000 - mean_absolute_error: 4906.9790 - mean_absolute_percentage_error: 15.8622 - mean_squared_error: 38035876.0000\n",
      "Epoch 47/50\n",
      "839/839 [==============================] - 0s 470us/step - loss: 37970304.0000 - mean_absolute_error: 4902.9268 - mean_absolute_percentage_error: 15.8517 - mean_squared_error: 37970304.0000\n",
      "Epoch 48/50\n",
      "839/839 [==============================] - 0s 467us/step - loss: 37916660.0000 - mean_absolute_error: 4898.6812 - mean_absolute_percentage_error: 15.8415 - mean_squared_error: 37916660.0000\n",
      "Epoch 49/50\n",
      "839/839 [==============================] - 0s 464us/step - loss: 37795556.0000 - mean_absolute_error: 4885.8604 - mean_absolute_percentage_error: 15.8016 - mean_squared_error: 37795556.0000\n",
      "Epoch 50/50\n",
      "839/839 [==============================] - 0s 461us/step - loss: 37750472.0000 - mean_absolute_error: 4883.8960 - mean_absolute_percentage_error: 15.7987 - mean_squared_error: 37750472.0000\n"
     ]
    }
   ],
   "source": [
    "history = network.fit(X_train,Y_train,\n",
    "epochs=50,\n",
    "batch_size=50)"
   ]
  },
  {
   "cell_type": "code",
   "execution_count": 18,
   "id": "381481a1",
   "metadata": {},
   "outputs": [
    {
     "data": {
      "image/png": "[encoded data removed]",
      "text/plain": [
       "<Figure size 576x360 with 1 Axes>"
      ]
     },
     "metadata": {
      "needs_background": "light"
     },
     "output_type": "display_data"
    }
   ],
   "source": [
    "history.history['mean_absolute_percentage_error']=list(map(lambda x:x/100, history.history['mean_absolute_percentage_error']))\n",
    "pd.DataFrame(history.history).plot(figsize = (8, 5))\n",
    "plt.grid(True)\n",
    "plt.gca().set_ylim(0, 1)\n",
    "plt.show()"
   ]
  },
  {
   "cell_type": "code",
   "execution_count": 19,
   "id": "fb1c4f52",
   "metadata": {},
   "outputs": [
    {
     "data": {
      "text/plain": [
       "array([[34850.242],\n",
       "       [37339.37 ],\n",
       "       [41034.207],\n",
       "       ...,\n",
       "       [29089.248],\n",
       "       [29720.375],\n",
       "       [27937.139]], dtype=float32)"
      ]
     },
     "execution_count": 19,
     "metadata": {},
     "output_type": "execute_result"
    }
   ],
   "source": [
    "network.predict(X_test)"
   ]
  },
  {
   "cell_type": "code",
   "execution_count": 20,
   "id": "9cf280d8",
   "metadata": {},
   "outputs": [
    {
     "data": {
      "text/plain": [
       "32423    28736.07103\n",
       "24854    37865.96026\n",
       "30211    41653.15615\n",
       "23307    44147.28477\n",
       "28050    33985.91362\n",
       "            ...     \n",
       "19454    25255.86885\n",
       "15396    40512.20667\n",
       "15564    24565.25296\n",
       "7755     44682.71186\n",
       "16728    25210.07535\n",
       "Name: Zone1PowerConsumption, Length: 10484, dtype: float64"
      ]
     },
     "execution_count": 20,
     "metadata": {},
     "output_type": "execute_result"
    }
   ],
   "source": [
    "Y_test"
   ]
  },
  {
   "cell_type": "markdown",
   "id": "5de22dcc",
   "metadata": {},
   "source": [
    "Y_test.to_csv(\"AdultsDataSet_Finaltrain.csv\",index=False)"
   ]
  }
 ],
 "metadata": {
  "kernelspec": {
   "display_name": "Python 3",
   "language": "python",
   "name": "python3"
  },
  "language_info": {
   "codemirror_mode": {
    "name": "ipython",
    "version": 3
   },
   "file_extension": ".py",
   "mimetype": "text/x-python",
   "name": "python",
   "nbconvert_exporter": "python",
   "pygments_lexer": "ipython3",
   "version": "3.8.8"
  }
 },
 "nbformat": 4,
 "nbformat_minor": 5
}
