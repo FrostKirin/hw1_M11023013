{
 "cells": [
  {
   "cell_type": "markdown",
   "id": "c2a66fae",
   "metadata": {},
   "source": [
    "# 類別"
   ]
  },
  {
   "cell_type": "code",
   "execution_count": 1,
   "id": "d5251f0c",
   "metadata": {},
   "outputs": [],
   "source": [
    "# 預處理\n",
    "import numpy as np\n",
    "\n",
    "import pandas as pd\n",
    "from sklearn.model_selection import train_test_split\n",
    "from keras.datasets import mnist\n",
    "from keras import models \n",
    "from keras import layers\n",
    "from keras.utils import np_utils\n",
    "from tensorflow.keras.utils import to_categorical\n",
    "from keras import backend as K\n",
    "from keras.layers import Dense, Activation, Flatten\n",
    "from matplotlib import pyplot as plt\n",
    "import tensorflow as tf\n",
    "\n",
    "dataset = pd.read_csv('Part1Data.csv')"
   ]
  },
  {
   "cell_type": "code",
   "execution_count": 2,
   "id": "5d2b424d",
   "metadata": {},
   "outputs": [],
   "source": [
    "# 設定答案\n",
    "dataset_target = dataset.pop('IsoverAVE')\n",
    "dataset = dataset.drop(\"Zone1PowerConsumption\",axis = 1)\n",
    "dataset = dataset.drop(\"Zone2PowerConsumption\",axis = 1)\n",
    "dataset = dataset.drop(\"Zone3PowerConsumption\",axis = 1)\n",
    "# 定義\n",
    "def recall(y_true, y_pred):\n",
    "    true_positives = K.sum(K.round(K.clip(y_true * y_pred, 0, 1)))\n",
    "    possible_positives = K.sum(K.round(K.clip(y_true, 0, 1)))\n",
    "    recall = true_positives / (possible_positives + K.epsilon())\n",
    "    return recall\n",
    "\n",
    "def precision(y_true, y_pred):\n",
    "    true_positives = K.sum(K.round(K.clip(y_true * y_pred, 0, 1)))\n",
    "    predicted_positives = K.sum(K.round(K.clip(y_pred, 0, 1)))\n",
    "    precision = true_positives / (predicted_positives + K.epsilon())\n",
    "    return precision"
   ]
  },
  {
   "cell_type": "code",
   "execution_count": 3,
   "id": "c37fc5fa",
   "metadata": {},
   "outputs": [
    {
     "name": "stdout",
     "output_type": "stream",
     "text": [
      "(41932, 5) (10484, 5)\n"
     ]
    }
   ],
   "source": [
    "# 分割資料\n",
    "from sklearn.model_selection import train_test_split\n",
    "X_train, X_test, Y_train, Y_test = train_test_split( dataset , dataset_target , test_size = 0.2)\n",
    "print(X_train.shape , X_test.shape)"
   ]
  },
  {
   "cell_type": "code",
   "execution_count": 4,
   "id": "03218449",
   "metadata": {},
   "outputs": [],
   "source": [
    "# 正規化\n",
    "X_train = X_train.values.reshape(41932, 5)\n",
    "X_test = X_test.values.reshape(10484, 5)\n",
    "X_train = X_train.astype('float32')\n",
    "X_test = X_test.astype('float32')\n",
    "\n",
    "#正規化測試資料 (0到1之間)\n",
    "X_train /= 255\n",
    "X_test /= 255\n",
    "\n",
    "#標籤向量化\n",
    "Y_train = np.asarray(Y_train).astype('float32')\n",
    "Y_test = np.asarray(Y_test).astype('float32')"
   ]
  },
  {
   "cell_type": "code",
   "execution_count": 5,
   "id": "1011abc1",
   "metadata": {},
   "outputs": [
    {
     "name": "stdout",
     "output_type": "stream",
     "text": [
      "Model: \"sequential\"\n",
      "_________________________________________________________________\n",
      "Layer (type)                 Output Shape              Param #   \n",
      "=================================================================\n",
      "dense (Dense)                (None, 5)                 30        \n",
      "_________________________________________________________________\n",
      "dense_1 (Dense)              (None, 32)                192       \n",
      "_________________________________________________________________\n",
      "dense_2 (Dense)              (None, 1)                 33        \n",
      "=================================================================\n",
      "Total params: 255\n",
      "Trainable params: 255\n",
      "Non-trainable params: 0\n",
      "_________________________________________________________________\n"
     ]
    }
   ],
   "source": [
    "#建構模型\n",
    "network = models.Sequential()\n",
    "network.add(layers.Dense(5, activation='relu', input_shape=(X_train.shape[1],)))\n",
    "network.add(layers.Dense(32, activation='relu'))\n",
    "network.add(layers.Dense(1, activation='sigmoid'))\n",
    "network.compile(optimizer='rmsprop', loss='binary_crossentropy',metrics=['acc',precision, recall])\n",
    "network.summary()"
   ]
  },
  {
   "cell_type": "code",
   "execution_count": 6,
   "id": "67be539b",
   "metadata": {
    "scrolled": false
   },
   "outputs": [
    {
     "name": "stdout",
     "output_type": "stream",
     "text": [
      "Epoch 1/50\n",
      "168/168 [==============================] - 0s 2ms/step - loss: 0.6603 - acc: 0.5992 - precision: 0.6260 - recall: 0.4986 - val_loss: 0.6466 - val_acc: 0.6100 - val_precision: 0.6577 - val_recall: 0.4369\n",
      "Epoch 2/50\n",
      "168/168 [==============================] - 0s 594us/step - loss: 0.6473 - acc: 0.6048 - precision: 0.6498 - recall: 0.4425 - val_loss: 0.6410 - val_acc: 0.6150 - val_precision: 0.6670 - val_recall: 0.4392\n",
      "Epoch 3/50\n",
      "168/168 [==============================] - 0s 611us/step - loss: 0.6418 - acc: 0.6114 - precision: 0.6530 - recall: 0.4629 - val_loss: 0.6354 - val_acc: 0.6256 - val_precision: 0.6690 - val_recall: 0.4776\n",
      "Epoch 4/50\n",
      "168/168 [==============================] - 0s 617us/step - loss: 0.6357 - acc: 0.6205 - precision: 0.6620 - recall: 0.4838 - val_loss: 0.6284 - val_acc: 0.6336 - val_precision: 0.6794 - val_recall: 0.4878\n",
      "Epoch 5/50\n",
      "168/168 [==============================] - 0s 600us/step - loss: 0.6285 - acc: 0.6313 - precision: 0.6722 - recall: 0.5036 - val_loss: 0.6213 - val_acc: 0.6436 - val_precision: 0.6773 - val_recall: 0.5321\n",
      "Epoch 6/50\n",
      "168/168 [==============================] - 0s 594us/step - loss: 0.6215 - acc: 0.6381 - precision: 0.6766 - recall: 0.5227 - val_loss: 0.6148 - val_acc: 0.6474 - val_precision: 0.6778 - val_recall: 0.5461\n",
      "Epoch 7/50\n",
      "168/168 [==============================] - 0s 594us/step - loss: 0.6146 - acc: 0.6451 - precision: 0.6801 - recall: 0.5415 - val_loss: 0.6087 - val_acc: 0.6551 - val_precision: 0.6762 - val_recall: 0.5793\n",
      "Epoch 8/50\n",
      "168/168 [==============================] - 0s 606us/step - loss: 0.6085 - acc: 0.6510 - precision: 0.6837 - recall: 0.5540 - val_loss: 0.6036 - val_acc: 0.6583 - val_precision: 0.6877 - val_recall: 0.5654\n",
      "Epoch 9/50\n",
      "168/168 [==============================] - 0s 600us/step - loss: 0.6042 - acc: 0.6538 - precision: 0.6839 - recall: 0.5659 - val_loss: 0.5998 - val_acc: 0.6643 - val_precision: 0.6877 - val_recall: 0.5868\n",
      "Epoch 10/50\n",
      "168/168 [==============================] - 0s 606us/step - loss: 0.6010 - acc: 0.6555 - precision: 0.6845 - recall: 0.5703 - val_loss: 0.5986 - val_acc: 0.6660 - val_precision: 0.6728 - val_recall: 0.6312\n",
      "Epoch 11/50\n",
      "168/168 [==============================] - 0s 582us/step - loss: 0.5989 - acc: 0.6582 - precision: 0.6835 - recall: 0.5816 - val_loss: 0.5970 - val_acc: 0.6611 - val_precision: 0.7013 - val_recall: 0.5463\n",
      "Epoch 12/50\n",
      "168/168 [==============================] - 0s 588us/step - loss: 0.5971 - acc: 0.6594 - precision: 0.6861 - recall: 0.5811 - val_loss: 0.5960 - val_acc: 0.6663 - val_precision: 0.6731 - val_recall: 0.6309\n",
      "Epoch 13/50\n",
      "168/168 [==============================] - 0s 588us/step - loss: 0.5960 - acc: 0.6615 - precision: 0.6857 - recall: 0.5885 - val_loss: 0.5938 - val_acc: 0.6638 - val_precision: 0.6855 - val_recall: 0.5912\n",
      "Epoch 14/50\n",
      "168/168 [==============================] - 0s 588us/step - loss: 0.5948 - acc: 0.6621 - precision: 0.6860 - recall: 0.5913 - val_loss: 0.5944 - val_acc: 0.6641 - val_precision: 0.6882 - val_recall: 0.5858\n",
      "Epoch 15/50\n",
      "168/168 [==============================] - 0s 594us/step - loss: 0.5940 - acc: 0.6635 - precision: 0.6862 - recall: 0.5959 - val_loss: 0.5928 - val_acc: 0.6664 - val_precision: 0.6878 - val_recall: 0.5948\n",
      "Epoch 16/50\n",
      "168/168 [==============================] - 0s 582us/step - loss: 0.5928 - acc: 0.6658 - precision: 0.6881 - recall: 0.5990 - val_loss: 0.5918 - val_acc: 0.6664 - val_precision: 0.6971 - val_recall: 0.5746\n",
      "Epoch 17/50\n",
      "168/168 [==============================] - 0s 582us/step - loss: 0.5921 - acc: 0.6657 - precision: 0.6872 - recall: 0.6003 - val_loss: 0.5944 - val_acc: 0.6645 - val_precision: 0.6514 - val_recall: 0.6905\n",
      "Epoch 18/50\n",
      "168/168 [==============================] - 0s 594us/step - loss: 0.5917 - acc: 0.6658 - precision: 0.6862 - recall: 0.6057 - val_loss: 0.5911 - val_acc: 0.6639 - val_precision: 0.6912 - val_recall: 0.5788\n",
      "Epoch 19/50\n",
      "168/168 [==============================] - 0s 606us/step - loss: 0.5910 - acc: 0.6651 - precision: 0.6841 - recall: 0.6064 - val_loss: 0.5920 - val_acc: 0.6693 - val_precision: 0.6984 - val_recall: 0.5827\n",
      "Epoch 20/50\n",
      "168/168 [==============================] - 0s 582us/step - loss: 0.5904 - acc: 0.6651 - precision: 0.6840 - recall: 0.6078 - val_loss: 0.5895 - val_acc: 0.6680 - val_precision: 0.6793 - val_recall: 0.6219\n",
      "Epoch 21/50\n",
      "168/168 [==============================] - 0s 594us/step - loss: 0.5897 - acc: 0.6656 - precision: 0.6847 - recall: 0.6077 - val_loss: 0.5936 - val_acc: 0.6626 - val_precision: 0.6458 - val_recall: 0.7017\n",
      "Epoch 22/50\n",
      "168/168 [==============================] - 0s 623us/step - loss: 0.5892 - acc: 0.6666 - precision: 0.6849 - recall: 0.6119 - val_loss: 0.5893 - val_acc: 0.6675 - val_precision: 0.6657 - val_recall: 0.6571\n",
      "Epoch 23/50\n",
      "168/168 [==============================] - 0s 611us/step - loss: 0.5886 - acc: 0.6657 - precision: 0.6817 - recall: 0.6162 - val_loss: 0.5885 - val_acc: 0.6717 - val_precision: 0.6954 - val_recall: 0.5969\n",
      "Epoch 24/50\n",
      "168/168 [==============================] - 0s 588us/step - loss: 0.5880 - acc: 0.6670 - precision: 0.6841 - recall: 0.6134 - val_loss: 0.5888 - val_acc: 0.6670 - val_precision: 0.6650 - val_recall: 0.6574\n",
      "Epoch 25/50\n",
      "168/168 [==============================] - 0s 606us/step - loss: 0.5876 - acc: 0.6662 - precision: 0.6818 - recall: 0.6163 - val_loss: 0.5882 - val_acc: 0.6661 - val_precision: 0.6694 - val_recall: 0.6403\n",
      "Epoch 26/50\n",
      "168/168 [==============================] - 0s 611us/step - loss: 0.5872 - acc: 0.6672 - precision: 0.6838 - recall: 0.6166 - val_loss: 0.5881 - val_acc: 0.6664 - val_precision: 0.6893 - val_recall: 0.5921\n",
      "Epoch 27/50\n",
      "168/168 [==============================] - 0s 600us/step - loss: 0.5867 - acc: 0.6665 - precision: 0.6822 - recall: 0.6166 - val_loss: 0.5884 - val_acc: 0.6669 - val_precision: 0.6940 - val_recall: 0.5832\n",
      "Epoch 28/50\n",
      "168/168 [==============================] - 0s 606us/step - loss: 0.5865 - acc: 0.6666 - precision: 0.6827 - recall: 0.6152 - val_loss: 0.5868 - val_acc: 0.6664 - val_precision: 0.6739 - val_recall: 0.6295\n",
      "Epoch 29/50\n",
      "168/168 [==============================] - 0s 629us/step - loss: 0.5860 - acc: 0.6672 - precision: 0.6829 - recall: 0.6175 - val_loss: 0.5867 - val_acc: 0.6675 - val_precision: 0.6783 - val_recall: 0.6219\n",
      "Epoch 30/50\n",
      "168/168 [==============================] - 0s 611us/step - loss: 0.5857 - acc: 0.6669 - precision: 0.6834 - recall: 0.6157 - val_loss: 0.5866 - val_acc: 0.6656 - val_precision: 0.6729 - val_recall: 0.6290\n",
      "Epoch 31/50\n",
      "168/168 [==============================] - 0s 606us/step - loss: 0.5855 - acc: 0.6662 - precision: 0.6826 - recall: 0.6160 - val_loss: 0.5883 - val_acc: 0.6621 - val_precision: 0.6536 - val_recall: 0.6712\n",
      "Epoch 32/50\n",
      "168/168 [==============================] - 0s 576us/step - loss: 0.5851 - acc: 0.6687 - precision: 0.6832 - recall: 0.6209 - val_loss: 0.5858 - val_acc: 0.6682 - val_precision: 0.6794 - val_recall: 0.6220\n",
      "Epoch 33/50\n",
      "168/168 [==============================] - 0s 582us/step - loss: 0.5847 - acc: 0.6684 - precision: 0.6853 - recall: 0.6169 - val_loss: 0.5868 - val_acc: 0.6674 - val_precision: 0.6636 - val_recall: 0.6632\n",
      "Epoch 34/50\n",
      "168/168 [==============================] - 0s 588us/step - loss: 0.5847 - acc: 0.6672 - precision: 0.6814 - recall: 0.6219 - val_loss: 0.5861 - val_acc: 0.6663 - val_precision: 0.6733 - val_recall: 0.6310\n",
      "Epoch 35/50\n",
      "168/168 [==============================] - 0s 582us/step - loss: 0.5843 - acc: 0.6686 - precision: 0.6855 - recall: 0.6169 - val_loss: 0.5877 - val_acc: 0.6622 - val_precision: 0.6552 - val_recall: 0.6673\n",
      "Epoch 36/50\n",
      "168/168 [==============================] - 0s 594us/step - loss: 0.5840 - acc: 0.6691 - precision: 0.6847 - recall: 0.6223 - val_loss: 0.5856 - val_acc: 0.6668 - val_precision: 0.6746 - val_recall: 0.6291\n",
      "Epoch 37/50\n",
      "168/168 [==============================] - 0s 588us/step - loss: 0.5835 - acc: 0.6680 - precision: 0.6822 - recall: 0.6218 - val_loss: 0.5858 - val_acc: 0.6657 - val_precision: 0.6718 - val_recall: 0.6322\n",
      "Epoch 38/50\n",
      "168/168 [==============================] - 0s 588us/step - loss: 0.5834 - acc: 0.6695 - precision: 0.6837 - recall: 0.6233 - val_loss: 0.5859 - val_acc: 0.6642 - val_precision: 0.6605 - val_recall: 0.6582\n"
     ]
    },
    {
     "name": "stdout",
     "output_type": "stream",
     "text": [
      "Epoch 39/50\n",
      "168/168 [==============================] - 0s 582us/step - loss: 0.5831 - acc: 0.6689 - precision: 0.6843 - recall: 0.6215 - val_loss: 0.5850 - val_acc: 0.6664 - val_precision: 0.6684 - val_recall: 0.6448\n",
      "Epoch 40/50\n",
      "168/168 [==============================] - 0s 582us/step - loss: 0.5827 - acc: 0.6695 - precision: 0.6847 - recall: 0.6226 - val_loss: 0.5849 - val_acc: 0.6684 - val_precision: 0.6803 - val_recall: 0.6206\n",
      "Epoch 41/50\n",
      "168/168 [==============================] - 0s 588us/step - loss: 0.5825 - acc: 0.6686 - precision: 0.6845 - recall: 0.6208 - val_loss: 0.5846 - val_acc: 0.6660 - val_precision: 0.6679 - val_recall: 0.6448\n",
      "Epoch 42/50\n",
      "168/168 [==============================] - 0s 606us/step - loss: 0.5825 - acc: 0.6683 - precision: 0.6838 - recall: 0.6214 - val_loss: 0.5848 - val_acc: 0.6665 - val_precision: 0.6648 - val_recall: 0.6564\n",
      "Epoch 43/50\n",
      "168/168 [==============================] - 0s 582us/step - loss: 0.5822 - acc: 0.6689 - precision: 0.6830 - recall: 0.6236 - val_loss: 0.5840 - val_acc: 0.6699 - val_precision: 0.6839 - val_recall: 0.6175\n",
      "Epoch 44/50\n",
      "168/168 [==============================] - 0s 594us/step - loss: 0.5819 - acc: 0.6701 - precision: 0.6862 - recall: 0.6217 - val_loss: 0.5851 - val_acc: 0.6660 - val_precision: 0.6584 - val_recall: 0.6731\n",
      "Epoch 45/50\n",
      "168/168 [==============================] - 0s 611us/step - loss: 0.5816 - acc: 0.6698 - precision: 0.6834 - recall: 0.6256 - val_loss: 0.5839 - val_acc: 0.6689 - val_precision: 0.6778 - val_recall: 0.6295\n",
      "Epoch 46/50\n",
      "168/168 [==============================] - 0s 594us/step - loss: 0.5815 - acc: 0.6695 - precision: 0.6841 - recall: 0.6240 - val_loss: 0.5847 - val_acc: 0.6717 - val_precision: 0.6887 - val_recall: 0.6131\n",
      "Epoch 47/50\n",
      "168/168 [==============================] - 0s 588us/step - loss: 0.5812 - acc: 0.6695 - precision: 0.6845 - recall: 0.6229 - val_loss: 0.5843 - val_acc: 0.6688 - val_precision: 0.6700 - val_recall: 0.6504\n",
      "Epoch 48/50\n",
      "168/168 [==============================] - 0s 588us/step - loss: 0.5812 - acc: 0.6704 - precision: 0.6835 - recall: 0.6273 - val_loss: 0.5866 - val_acc: 0.6716 - val_precision: 0.7079 - val_recall: 0.5707\n",
      "Epoch 49/50\n",
      "168/168 [==============================] - 0s 582us/step - loss: 0.5810 - acc: 0.6708 - precision: 0.6870 - recall: 0.6215 - val_loss: 0.5842 - val_acc: 0.6696 - val_precision: 0.6757 - val_recall: 0.6366\n",
      "Epoch 50/50\n",
      "168/168 [==============================] - 0s 588us/step - loss: 0.5808 - acc: 0.6697 - precision: 0.6834 - recall: 0.6257 - val_loss: 0.5844 - val_acc: 0.6684 - val_precision: 0.6726 - val_recall: 0.6414\n"
     ]
    }
   ],
   "source": [
    "history = network.fit(X_train,Y_train,\n",
    "epochs=50,\n",
    "batch_size=250,validation_data=(X_test, Y_test))"
   ]
  },
  {
   "cell_type": "code",
   "execution_count": 7,
   "id": "7d2b4c77",
   "metadata": {},
   "outputs": [
    {
     "data": {
      "image/png": "[encoded data removed]",
      "text/plain": [
       "<Figure size 432x288 with 1 Axes>"
      ]
     },
     "metadata": {
      "needs_background": "light"
     },
     "output_type": "display_data"
    }
   ],
   "source": [
    "loss = history.history[\"loss\"]\n",
    "epochs = range(1, len(loss)+1)\n",
    "plt.plot(epochs, loss, \"bo\", label =\"Training Loss\")\n",
    "plt.plot(epochs, history.history['val_loss'], 'b', label='Validation loss')\n",
    "plt.xlabel(\"Epochs\")\n",
    "plt.ylabel(\"Loss\")\n",
    "plt.legend()\n",
    "plt.show()"
   ]
  },
  {
   "cell_type": "code",
   "execution_count": 8,
   "id": "7ea66316",
   "metadata": {},
   "outputs": [
    {
     "name": "stdout",
     "output_type": "stream",
     "text": [
      "328/328 [==============================] - 0s 356us/step - loss: 0.5844 - acc: 0.6684 - precision: 0.6725 - recall: 0.6422\n",
      "Precision 0.6724720597267151\n",
      "Recall 0.6421995759010315\n",
      "F1 0.6569872808666459\n"
     ]
    }
   ],
   "source": [
    "preds = network.evaluate(x = X_test, y = Y_test)\n",
    "\n",
    "F1 = 2 * (preds[2] * preds[3]) / (preds[2] + preds[3])\n",
    "print('Precision', preds[2])\n",
    "print('Recall', preds[3])\n",
    "print('F1',F1)"
   ]
  },
  {
   "cell_type": "code",
   "execution_count": 9,
   "id": "a5a7e31b",
   "metadata": {},
   "outputs": [
    {
     "data": {
      "image/png": "[encoded data removed]",
      "text/plain": [
       "<Figure size 576x360 with 1 Axes>"
      ]
     },
     "metadata": {
      "needs_background": "light"
     },
     "output_type": "display_data"
    }
   ],
   "source": [
    "pd.DataFrame(history.history).plot(figsize = (8, 5))\n",
    "plt.grid(True)\n",
    "plt.gca().set_ylim(0, 2)\n",
    "plt.show()"
   ]
  },
  {
   "cell_type": "code",
   "execution_count": 10,
   "id": "0f1a8cc1",
   "metadata": {},
   "outputs": [
    {
     "data": {
      "text/html": [
       "<div>\n",
       "<style scoped>\n",
       "    .dataframe tbody tr th:only-of-type {\n",
       "        vertical-align: middle;\n",
       "    }\n",
       "\n",
       "    .dataframe tbody tr th {\n",
       "        vertical-align: top;\n",
       "    }\n",
       "\n",
       "    .dataframe thead th {\n",
       "        text-align: right;\n",
       "    }\n",
       "</style>\n",
       "<table border=\"1\" class=\"dataframe\">\n",
       "  <thead>\n",
       "    <tr style=\"text-align: right;\">\n",
       "      <th></th>\n",
       "      <th>Temperature</th>\n",
       "      <th>Humidity</th>\n",
       "      <th>Wind Speed</th>\n",
       "      <th>general diffuse flows</th>\n",
       "      <th>diffuse flows</th>\n",
       "    </tr>\n",
       "  </thead>\n",
       "  <tbody>\n",
       "    <tr>\n",
       "      <th>0</th>\n",
       "      <td>6.559</td>\n",
       "      <td>73.8</td>\n",
       "      <td>0.083</td>\n",
       "      <td>0.051</td>\n",
       "      <td>0.119</td>\n",
       "    </tr>\n",
       "    <tr>\n",
       "      <th>1</th>\n",
       "      <td>6.414</td>\n",
       "      <td>74.5</td>\n",
       "      <td>0.083</td>\n",
       "      <td>0.070</td>\n",
       "      <td>0.085</td>\n",
       "    </tr>\n",
       "    <tr>\n",
       "      <th>2</th>\n",
       "      <td>6.313</td>\n",
       "      <td>74.5</td>\n",
       "      <td>0.080</td>\n",
       "      <td>0.062</td>\n",
       "      <td>0.100</td>\n",
       "    </tr>\n",
       "    <tr>\n",
       "      <th>3</th>\n",
       "      <td>6.121</td>\n",
       "      <td>75.0</td>\n",
       "      <td>0.083</td>\n",
       "      <td>0.091</td>\n",
       "      <td>0.096</td>\n",
       "    </tr>\n",
       "    <tr>\n",
       "      <th>4</th>\n",
       "      <td>5.921</td>\n",
       "      <td>75.7</td>\n",
       "      <td>0.081</td>\n",
       "      <td>0.048</td>\n",
       "      <td>0.085</td>\n",
       "    </tr>\n",
       "    <tr>\n",
       "      <th>...</th>\n",
       "      <td>...</td>\n",
       "      <td>...</td>\n",
       "      <td>...</td>\n",
       "      <td>...</td>\n",
       "      <td>...</td>\n",
       "    </tr>\n",
       "    <tr>\n",
       "      <th>52411</th>\n",
       "      <td>7.010</td>\n",
       "      <td>72.4</td>\n",
       "      <td>0.080</td>\n",
       "      <td>0.040</td>\n",
       "      <td>0.096</td>\n",
       "    </tr>\n",
       "    <tr>\n",
       "      <th>52412</th>\n",
       "      <td>6.947</td>\n",
       "      <td>72.6</td>\n",
       "      <td>0.082</td>\n",
       "      <td>0.051</td>\n",
       "      <td>0.093</td>\n",
       "    </tr>\n",
       "    <tr>\n",
       "      <th>52413</th>\n",
       "      <td>6.900</td>\n",
       "      <td>72.8</td>\n",
       "      <td>0.086</td>\n",
       "      <td>0.084</td>\n",
       "      <td>0.074</td>\n",
       "    </tr>\n",
       "    <tr>\n",
       "      <th>52414</th>\n",
       "      <td>6.758</td>\n",
       "      <td>73.0</td>\n",
       "      <td>0.080</td>\n",
       "      <td>0.066</td>\n",
       "      <td>0.089</td>\n",
       "    </tr>\n",
       "    <tr>\n",
       "      <th>52415</th>\n",
       "      <td>6.580</td>\n",
       "      <td>74.1</td>\n",
       "      <td>0.081</td>\n",
       "      <td>0.062</td>\n",
       "      <td>0.111</td>\n",
       "    </tr>\n",
       "  </tbody>\n",
       "</table>\n",
       "<p>52416 rows × 5 columns</p>\n",
       "</div>"
      ],
      "text/plain": [
       "       Temperature  Humidity  Wind Speed  general diffuse flows  diffuse flows\n",
       "0            6.559      73.8       0.083                  0.051          0.119\n",
       "1            6.414      74.5       0.083                  0.070          0.085\n",
       "2            6.313      74.5       0.080                  0.062          0.100\n",
       "3            6.121      75.0       0.083                  0.091          0.096\n",
       "4            5.921      75.7       0.081                  0.048          0.085\n",
       "...            ...       ...         ...                    ...            ...\n",
       "52411        7.010      72.4       0.080                  0.040          0.096\n",
       "52412        6.947      72.6       0.082                  0.051          0.093\n",
       "52413        6.900      72.8       0.086                  0.084          0.074\n",
       "52414        6.758      73.0       0.080                  0.066          0.089\n",
       "52415        6.580      74.1       0.081                  0.062          0.111\n",
       "\n",
       "[52416 rows x 5 columns]"
      ]
     },
     "execution_count": 10,
     "metadata": {},
     "output_type": "execute_result"
    }
   ],
   "source": [
    "dataset"
   ]
  },
  {
   "cell_type": "markdown",
   "id": "c7316681",
   "metadata": {},
   "source": [
    "# 數值"
   ]
  },
  {
   "cell_type": "code",
   "execution_count": 11,
   "id": "0b578e35",
   "metadata": {},
   "outputs": [],
   "source": [
    "from sklearn.metrics import mean_squared_error #MSE\n",
    "from sklearn.metrics import mean_absolute_error #MAE\n",
    "from sklearn.metrics import mean_absolute_percentage_error#MAPE\n",
    "import tensorflow as tf\n",
    "def MAE(y_true, predictions):\n",
    "    y_true, predictions = np.array(y_true), np.array(predictions)\n",
    "    return np.mean(np.abs(y_true - predictions))\n",
    "\n",
    "def MSE(actual, pred): \n",
    "    actual, pred = np.array(actual), np.array(pred)\n",
    "    return np.square(np.subtract(actual,pred)).mean() \n",
    "\n",
    "def MAPE(y_true, y_pred): \n",
    "    y_true, y_pred = np.array(y_true), np.array(y_pred)\n",
    "    return np.mean(np.abs((y_true - y_pred) / y_true))"
   ]
  },
  {
   "cell_type": "code",
   "execution_count": 12,
   "id": "84e90a56",
   "metadata": {},
   "outputs": [],
   "source": [
    "#匯入資料\n",
    "dataset = pd.read_csv('Part1Data.csv')"
   ]
  },
  {
   "cell_type": "code",
   "execution_count": 13,
   "id": "27928f77",
   "metadata": {},
   "outputs": [],
   "source": [
    "# 正規化\n",
    "from sklearn.preprocessing import MinMaxScaler\n",
    "scaler = MinMaxScaler()\n",
    "dataset_1 = scaler.fit_transform(dataset)\n",
    "dataset_2 = pd.DataFrame(dataset_1,columns=dataset.columns)\n",
    "dataset_2\n",
    "\n",
    "# 設定答案\n",
    "dataset_target = dataset_2.pop('Zone1PowerConsumption')\n",
    "dataset_target.loc()[dataset_target == 0]= dataset_target.mean()\n",
    "#丟棄不需用到的資料\n",
    "dataset_2 = dataset_2.drop(\"Zone2PowerConsumption\",axis = 1)\n",
    "dataset_2 = dataset_2.drop(\"Zone3PowerConsumption\",axis = 1)\n",
    "dataset_2 = dataset_2.drop(\"general diffuse flows\",axis = 1)\n",
    "dataset_2 = dataset_2.drop(\"diffuse flows\",axis = 1)\n",
    "dataset_2 = dataset_2.drop(\"IsoverAVE\",axis = 1)"
   ]
  },
  {
   "cell_type": "code",
   "execution_count": 14,
   "id": "a589a366",
   "metadata": {
    "scrolled": true
   },
   "outputs": [
    {
     "data": {
      "text/plain": [
       "array([[7.9215690e-02, 3.2941177e-01, 2.5490194e-04, 7.2627449e-01,\n",
       "        7.7529413e-01],\n",
       "       [3.8901962e-02, 3.2196078e-01, 3.2941176e-04, 1.6039217e-01,\n",
       "        1.6043137e-01],\n",
       "       [6.9529407e-02, 2.8588235e-01, 1.9274510e-02, 8.6274507e-05,\n",
       "        6.3921569e-04],\n",
       "       ...,\n",
       "       [2.1886274e-02, 3.3058825e-01, 1.9266667e-02, 8.1098042e-03,\n",
       "        7.8980392e-03],\n",
       "       [6.1764706e-02, 2.9882351e-01, 3.0980393e-04, 1.0196079e-04,\n",
       "        5.9607840e-04],\n",
       "       [4.0627450e-02, 2.8941178e-01, 3.4117646e-04, 1.5686275e-04,\n",
       "        4.6666668e-04]], dtype=float32)"
      ]
     },
     "execution_count": 14,
     "metadata": {},
     "output_type": "execute_result"
    }
   ],
   "source": [
    "X_test"
   ]
  },
  {
   "cell_type": "code",
   "execution_count": 15,
   "id": "217b3a66",
   "metadata": {},
   "outputs": [],
   "source": [
    "# 分割資料\n",
    "from sklearn.model_selection import train_test_split\n",
    "X_train, X_test, Y_train, Y_test = train_test_split( dataset_2 , dataset_target , test_size = 0.2)"
   ]
  },
  {
   "cell_type": "code",
   "execution_count": 16,
   "id": "99172ff7",
   "metadata": {
    "scrolled": false
   },
   "outputs": [
    {
     "name": "stdout",
     "output_type": "stream",
     "text": [
      "(41932, 3)\n",
      "(10484, 3)\n",
      "(10484,)\n"
     ]
    }
   ],
   "source": [
    "print(X_train.shape)\n",
    "print(X_test.shape)\n",
    "print(Y_test.shape)"
   ]
  },
  {
   "cell_type": "code",
   "execution_count": 17,
   "id": "1920adba",
   "metadata": {
    "scrolled": true
   },
   "outputs": [
    {
     "name": "stdout",
     "output_type": "stream",
     "text": [
      "Model: \"sequential_1\"\n",
      "_________________________________________________________________\n",
      "Layer (type)                 Output Shape              Param #   \n",
      "=================================================================\n",
      "dense_3 (Dense)              (None, 5)                 20        \n",
      "_________________________________________________________________\n",
      "dense_4 (Dense)              (None, 64)                384       \n",
      "_________________________________________________________________\n",
      "dense_5 (Dense)              (None, 1)                 65        \n",
      "=================================================================\n",
      "Total params: 469\n",
      "Trainable params: 469\n",
      "Non-trainable params: 0\n",
      "_________________________________________________________________\n"
     ]
    }
   ],
   "source": [
    "#建立Sequential物件\n",
    "network = models.Sequential()\n",
    "network.add(layers.Dense(5, activation='relu', input_shape=(X_train.shape[1],)))\n",
    "network.add(layers.Dense(64, activation='relu'))\n",
    "network.add(layers.Dense(1))\n",
    "network.compile(optimizer='RMSprop', loss='mse',metrics=[tf.keras.metrics.mae,tf.keras.metrics.mape,tf.metrics.mse] )\n",
    "network.summary()"
   ]
  },
  {
   "cell_type": "code",
   "execution_count": 18,
   "id": "f5d2536f",
   "metadata": {},
   "outputs": [
    {
     "name": "stdout",
     "output_type": "stream",
     "text": [
      "Epoch 1/50\n",
      "839/839 [==============================] - 0s 529us/step - loss: 0.0297 - mean_absolute_error: 0.1388 - mean_absolute_percentage_error: 37.6314 - mean_squared_error: 0.0297\n",
      "Epoch 2/50\n",
      "839/839 [==============================] - 0s 548us/step - loss: 0.0272 - mean_absolute_error: 0.1335 - mean_absolute_percentage_error: 36.4265 - mean_squared_error: 0.0272\n",
      "Epoch 3/50\n",
      "839/839 [==============================] - 0s 524us/step - loss: 0.0272 - mean_absolute_error: 0.1331 - mean_absolute_percentage_error: 36.3663 - mean_squared_error: 0.0272\n",
      "Epoch 4/50\n",
      "839/839 [==============================] - 0s 529us/step - loss: 0.0271 - mean_absolute_error: 0.1327 - mean_absolute_percentage_error: 36.2516 - mean_squared_error: 0.0271\n",
      "Epoch 5/50\n",
      "839/839 [==============================] - 0s 531us/step - loss: 0.0270 - mean_absolute_error: 0.1324 - mean_absolute_percentage_error: 35.9399 - mean_squared_error: 0.0270\n",
      "Epoch 6/50\n",
      "839/839 [==============================] - 0s 545us/step - loss: 0.0270 - mean_absolute_error: 0.1323 - mean_absolute_percentage_error: 36.1417 - mean_squared_error: 0.0270\n",
      "Epoch 7/50\n",
      "839/839 [==============================] - 0s 550us/step - loss: 0.0269 - mean_absolute_error: 0.1322 - mean_absolute_percentage_error: 35.9977 - mean_squared_error: 0.0269\n",
      "Epoch 8/50\n",
      "839/839 [==============================] - 0s 572us/step - loss: 0.0269 - mean_absolute_error: 0.1320 - mean_absolute_percentage_error: 36.0538 - mean_squared_error: 0.0269\n",
      "Epoch 9/50\n",
      "839/839 [==============================] - 0s 523us/step - loss: 0.0268 - mean_absolute_error: 0.1318 - mean_absolute_percentage_error: 35.8975 - mean_squared_error: 0.0268\n",
      "Epoch 10/50\n",
      "839/839 [==============================] - 0s 527us/step - loss: 0.0267 - mean_absolute_error: 0.1316 - mean_absolute_percentage_error: 35.9204 - mean_squared_error: 0.0267\n",
      "Epoch 11/50\n",
      "839/839 [==============================] - 0s 527us/step - loss: 0.0267 - mean_absolute_error: 0.1314 - mean_absolute_percentage_error: 35.8961 - mean_squared_error: 0.0267\n",
      "Epoch 12/50\n",
      "839/839 [==============================] - 0s 522us/step - loss: 0.0266 - mean_absolute_error: 0.1311 - mean_absolute_percentage_error: 35.7950 - mean_squared_error: 0.0266\n",
      "Epoch 13/50\n",
      "839/839 [==============================] - 0s 555us/step - loss: 0.0266 - mean_absolute_error: 0.1310 - mean_absolute_percentage_error: 35.6258 - mean_squared_error: 0.0266\n",
      "Epoch 14/50\n",
      "839/839 [==============================] - 0s 548us/step - loss: 0.0265 - mean_absolute_error: 0.1309 - mean_absolute_percentage_error: 36.0069 - mean_squared_error: 0.0265\n",
      "Epoch 15/50\n",
      "839/839 [==============================] - 1s 622us/step - loss: 0.0265 - mean_absolute_error: 0.1309 - mean_absolute_percentage_error: 35.6846 - mean_squared_error: 0.0265\n",
      "Epoch 16/50\n",
      "839/839 [==============================] - 1s 681us/step - loss: 0.0264 - mean_absolute_error: 0.1306 - mean_absolute_percentage_error: 35.7385 - mean_squared_error: 0.0264\n",
      "Epoch 17/50\n",
      "839/839 [==============================] - 0s 585us/step - loss: 0.0264 - mean_absolute_error: 0.1305 - mean_absolute_percentage_error: 35.5203 - mean_squared_error: 0.0264\n",
      "Epoch 18/50\n",
      "839/839 [==============================] - 0s 591us/step - loss: 0.0263 - mean_absolute_error: 0.1303 - mean_absolute_percentage_error: 35.5294 - mean_squared_error: 0.0263\n",
      "Epoch 19/50\n",
      "839/839 [==============================] - 0s 562us/step - loss: 0.0263 - mean_absolute_error: 0.1302 - mean_absolute_percentage_error: 35.5713 - mean_squared_error: 0.0263\n",
      "Epoch 20/50\n",
      "839/839 [==============================] - 0s 526us/step - loss: 0.0262 - mean_absolute_error: 0.1300 - mean_absolute_percentage_error: 35.3732 - mean_squared_error: 0.0262\n",
      "Epoch 21/50\n",
      "839/839 [==============================] - 0s 524us/step - loss: 0.0262 - mean_absolute_error: 0.1298 - mean_absolute_percentage_error: 35.2573 - mean_squared_error: 0.0262\n",
      "Epoch 22/50\n",
      "839/839 [==============================] - 0s 537us/step - loss: 0.0262 - mean_absolute_error: 0.1299 - mean_absolute_percentage_error: 35.2732 - mean_squared_error: 0.0262\n",
      "Epoch 23/50\n",
      "839/839 [==============================] - 0s 590us/step - loss: 0.0261 - mean_absolute_error: 0.1298 - mean_absolute_percentage_error: 35.5194 - mean_squared_error: 0.0261\n",
      "Epoch 24/50\n",
      "839/839 [==============================] - 0s 524us/step - loss: 0.0261 - mean_absolute_error: 0.1297 - mean_absolute_percentage_error: 35.3611 - mean_squared_error: 0.0261\n",
      "Epoch 25/50\n",
      "839/839 [==============================] - 1s 617us/step - loss: 0.0261 - mean_absolute_error: 0.1296 - mean_absolute_percentage_error: 35.4637 - mean_squared_error: 0.0261\n",
      "Epoch 26/50\n",
      "839/839 [==============================] - 1s 603us/step - loss: 0.0261 - mean_absolute_error: 0.1297 - mean_absolute_percentage_error: 35.3234 - mean_squared_error: 0.0261\n",
      "Epoch 27/50\n",
      "839/839 [==============================] - 1s 666us/step - loss: 0.0261 - mean_absolute_error: 0.1297 - mean_absolute_percentage_error: 35.5166 - mean_squared_error: 0.0261\n",
      "Epoch 28/50\n",
      "839/839 [==============================] - 0s 581us/step - loss: 0.0261 - mean_absolute_error: 0.1295 - mean_absolute_percentage_error: 35.3119 - mean_squared_error: 0.0261\n",
      "Epoch 29/50\n",
      "839/839 [==============================] - 1s 644us/step - loss: 0.0261 - mean_absolute_error: 0.1295 - mean_absolute_percentage_error: 35.4450 - mean_squared_error: 0.0261\n",
      "Epoch 30/50\n",
      "839/839 [==============================] - 0s 590us/step - loss: 0.0260 - mean_absolute_error: 0.1294 - mean_absolute_percentage_error: 35.1941 - mean_squared_error: 0.0260\n",
      "Epoch 31/50\n",
      "839/839 [==============================] - 0s 557us/step - loss: 0.0260 - mean_absolute_error: 0.1293 - mean_absolute_percentage_error: 35.1166 - mean_squared_error: 0.0260\n",
      "Epoch 32/50\n",
      "839/839 [==============================] - 0s 532us/step - loss: 0.0260 - mean_absolute_error: 0.1294 - mean_absolute_percentage_error: 35.4232 - mean_squared_error: 0.0260\n",
      "Epoch 33/50\n",
      "839/839 [==============================] - 0s 580us/step - loss: 0.0261 - mean_absolute_error: 0.1295 - mean_absolute_percentage_error: 35.2743 - mean_squared_error: 0.0261\n",
      "Epoch 34/50\n",
      "839/839 [==============================] - 0s 596us/step - loss: 0.0260 - mean_absolute_error: 0.1293 - mean_absolute_percentage_error: 35.1486 - mean_squared_error: 0.0260\n",
      "Epoch 35/50\n",
      "839/839 [==============================] - 0s 576us/step - loss: 0.0259 - mean_absolute_error: 0.1293 - mean_absolute_percentage_error: 35.5934 - mean_squared_error: 0.0259\n",
      "Epoch 36/50\n",
      "839/839 [==============================] - 0s 569us/step - loss: 0.0260 - mean_absolute_error: 0.1292 - mean_absolute_percentage_error: 35.2355 - mean_squared_error: 0.0260\n",
      "Epoch 37/50\n",
      "839/839 [==============================] - 0s 517us/step - loss: 0.0259 - mean_absolute_error: 0.1292 - mean_absolute_percentage_error: 35.2032 - mean_squared_error: 0.0259\n",
      "Epoch 38/50\n",
      "839/839 [==============================] - 0s 560us/step - loss: 0.0260 - mean_absolute_error: 0.1293 - mean_absolute_percentage_error: 35.2800 - mean_squared_error: 0.0260\n",
      "Epoch 39/50\n",
      "839/839 [==============================] - 0s 570us/step - loss: 0.0260 - mean_absolute_error: 0.1292 - mean_absolute_percentage_error: 35.3146 - mean_squared_error: 0.0260\n",
      "Epoch 40/50\n",
      "839/839 [==============================] - 1s 603us/step - loss: 0.0259 - mean_absolute_error: 0.1292 - mean_absolute_percentage_error: 35.0777 - mean_squared_error: 0.0259\n",
      "Epoch 41/50\n",
      "839/839 [==============================] - 0s 511us/step - loss: 0.0259 - mean_absolute_error: 0.1291 - mean_absolute_percentage_error: 35.2113 - mean_squared_error: 0.0259\n",
      "Epoch 42/50\n",
      "839/839 [==============================] - 0s 518us/step - loss: 0.0259 - mean_absolute_error: 0.1291 - mean_absolute_percentage_error: 35.2635 - mean_squared_error: 0.0259\n",
      "Epoch 43/50\n",
      "839/839 [==============================] - 0s 512us/step - loss: 0.0259 - mean_absolute_error: 0.1291 - mean_absolute_percentage_error: 35.2860 - mean_squared_error: 0.0259\n",
      "Epoch 44/50\n",
      "839/839 [==============================] - 0s 536us/step - loss: 0.0259 - mean_absolute_error: 0.1291 - mean_absolute_percentage_error: 35.2168 - mean_squared_error: 0.0259\n",
      "Epoch 45/50\n",
      "839/839 [==============================] - 0s 517us/step - loss: 0.0259 - mean_absolute_error: 0.1290 - mean_absolute_percentage_error: 35.1876 - mean_squared_error: 0.0259\n",
      "Epoch 46/50\n",
      "839/839 [==============================] - 1s 638us/step - loss: 0.0259 - mean_absolute_error: 0.1290 - mean_absolute_percentage_error: 35.1879 - mean_squared_error: 0.0259\n",
      "Epoch 47/50\n",
      "839/839 [==============================] - 1s 600us/step - loss: 0.0259 - mean_absolute_error: 0.1291 - mean_absolute_percentage_error: 35.2390 - mean_squared_error: 0.0259\n",
      "Epoch 48/50\n",
      "839/839 [==============================] - 0s 553us/step - loss: 0.0259 - mean_absolute_error: 0.1290 - mean_absolute_percentage_error: 35.2370 - mean_squared_error: 0.0259\n",
      "Epoch 49/50\n",
      "839/839 [==============================] - 0s 544us/step - loss: 0.0259 - mean_absolute_error: 0.1290 - mean_absolute_percentage_error: 35.1662 - mean_squared_error: 0.0259\n",
      "Epoch 50/50\n",
      "839/839 [==============================] - 0s 585us/step - loss: 0.0259 - mean_absolute_error: 0.1289 - mean_absolute_percentage_error: 35.1861 - mean_squared_error: 0.0259\n"
     ]
    }
   ],
   "source": [
    "history = network.fit(X_train,Y_train,\n",
    "epochs=50,\n",
    "batch_size=50)"
   ]
  },
  {
   "cell_type": "code",
   "execution_count": 19,
   "id": "50d58445",
   "metadata": {},
   "outputs": [
    {
     "data": {
      "image/png": "[encoded data removed]",
      "text/plain": [
       "<Figure size 576x360 with 1 Axes>"
      ]
     },
     "metadata": {
      "needs_background": "light"
     },
     "output_type": "display_data"
    }
   ],
   "source": [
    "history.history['mean_absolute_percentage_error']=list(map(lambda x:x/100, history.history['mean_absolute_percentage_error']))\n",
    "pd.DataFrame(history.history).plot(figsize = (8, 5))\n",
    "plt.grid(True)\n",
    "plt.gca().set_ylim(0, 1)\n",
    "plt.show()"
   ]
  },
  {
   "cell_type": "code",
   "execution_count": 20,
   "id": "83684d45",
   "metadata": {},
   "outputs": [
    {
     "data": {
      "text/plain": [
       "array([[0.52212274],\n",
       "       [0.45746765],\n",
       "       [0.6872831 ],\n",
       "       ...,\n",
       "       [0.46518463],\n",
       "       [0.55811054],\n",
       "       [0.4929194 ]], dtype=float32)"
      ]
     },
     "execution_count": 20,
     "metadata": {},
     "output_type": "execute_result"
    }
   ],
   "source": [
    "network.predict(X_test)"
   ]
  },
  {
   "cell_type": "code",
   "execution_count": 21,
   "id": "84fe665b",
   "metadata": {},
   "outputs": [
    {
     "data": {
      "text/plain": [
       "46573    0.378777\n",
       "44072    0.259905\n",
       "28731    0.785016\n",
       "2039     0.064711\n",
       "47259    0.203521\n",
       "           ...   \n",
       "50608    0.449881\n",
       "14589    0.281429\n",
       "41177    0.571329\n",
       "29823    0.445671\n",
       "42902    0.492696\n",
       "Name: Zone1PowerConsumption, Length: 10484, dtype: float64"
      ]
     },
     "execution_count": 21,
     "metadata": {},
     "output_type": "execute_result"
    }
   ],
   "source": [
    "Y_test"
   ]
  },
  {
   "cell_type": "markdown",
   "id": "65072a42",
   "metadata": {},
   "source": [
    "Y_test.to_csv(\"AdultsDataSet_Finaltrain.csv\",index=False)"
   ]
  }
 ],
 "metadata": {
  "kernelspec": {
   "display_name": "Python 3",
   "language": "python",
   "name": "python3"
  },
  "language_info": {
   "codemirror_mode": {
    "name": "ipython",
    "version": 3
   },
   "file_extension": ".py",
   "mimetype": "text/x-python",
   "name": "python",
   "nbconvert_exporter": "python",
   "pygments_lexer": "ipython3",
   "version": "3.8.8"
  }
 },
 "nbformat": 4,
 "nbformat_minor": 5
}
