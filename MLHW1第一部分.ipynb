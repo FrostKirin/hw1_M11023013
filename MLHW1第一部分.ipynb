{
 "cells": [
  {
   "cell_type": "markdown",
   "id": "c2a66fae",
   "metadata": {},
   "source": [
    "# 類別"
   ]
  },
  {
   "cell_type": "code",
   "execution_count": 1,
   "id": "d5251f0c",
   "metadata": {},
   "outputs": [],
   "source": [
    "# 預處理\n",
    "import numpy as np\n",
    "\n",
    "import pandas as pd\n",
    "from sklearn.model_selection import train_test_split\n",
    "from keras.datasets import mnist\n",
    "from keras import models \n",
    "from keras import layers\n",
    "from keras.utils import np_utils\n",
    "from tensorflow.keras.utils import to_categorical\n",
    "from keras import backend as K\n",
    "from keras.layers import Dense, Activation, Flatten\n",
    "from matplotlib import pyplot as plt\n",
    "import tensorflow as tf\n",
    "\n",
    "dataset = pd.read_csv('Part1Data.csv')"
   ]
  },
  {
   "cell_type": "code",
   "execution_count": 2,
   "id": "5d2b424d",
   "metadata": {},
   "outputs": [],
   "source": [
    "# 設定答案\n",
    "dataset_target = dataset.pop('IsoverAVE')\n",
    "dataset = dataset.drop(\"Zone1PowerConsumption\",axis = 1)\n",
    "dataset = dataset.drop(\"Zone2PowerConsumption\",axis = 1)\n",
    "dataset = dataset.drop(\"Zone3PowerConsumption\",axis = 1)\n",
    "# 定義\n",
    "def recall(y_true, y_pred):\n",
    "    true_positives = K.sum(K.round(K.clip(y_true * y_pred, 0, 1)))\n",
    "    possible_positives = K.sum(K.round(K.clip(y_true, 0, 1)))\n",
    "    recall = true_positives / (possible_positives + K.epsilon())\n",
    "    return recall\n",
    "\n",
    "def precision(y_true, y_pred):\n",
    "    true_positives = K.sum(K.round(K.clip(y_true * y_pred, 0, 1)))\n",
    "    predicted_positives = K.sum(K.round(K.clip(y_pred, 0, 1)))\n",
    "    precision = true_positives / (predicted_positives + K.epsilon())\n",
    "    return precision"
   ]
  },
  {
   "cell_type": "code",
   "execution_count": 3,
   "id": "c37fc5fa",
   "metadata": {},
   "outputs": [
    {
     "name": "stdout",
     "output_type": "stream",
     "text": [
      "(41932, 5) (10484, 5)\n"
     ]
    }
   ],
   "source": [
    "# 分割資料\n",
    "from sklearn.model_selection import train_test_split\n",
    "X_train, X_test, Y_train, Y_test = train_test_split( dataset , dataset_target , test_size = 0.2)\n",
    "print(X_train.shape , X_test.shape)"
   ]
  },
  {
   "cell_type": "code",
   "execution_count": 4,
   "id": "03218449",
   "metadata": {},
   "outputs": [],
   "source": [
    "# 正規化\n",
    "X_train = X_train.values.reshape(41932, 5)\n",
    "X_test = X_test.values.reshape(10484, 5)\n",
    "X_train = X_train.astype('float32')\n",
    "X_test = X_test.astype('float32')\n",
    "\n",
    "#正規化測試資料 (0到1之間)\n",
    "X_train /= 255\n",
    "X_test /= 255\n",
    "\n",
    "#標籤向量化\n",
    "Y_train = np.asarray(Y_train).astype('float32')\n",
    "Y_test = np.asarray(Y_test).astype('float32')"
   ]
  },
  {
   "cell_type": "code",
   "execution_count": 5,
   "id": "1011abc1",
   "metadata": {},
   "outputs": [
    {
     "name": "stdout",
     "output_type": "stream",
     "text": [
      "Model: \"sequential\"\n",
      "_________________________________________________________________\n",
      "Layer (type)                 Output Shape              Param #   \n",
      "=================================================================\n",
      "dense (Dense)                (None, 1000)              6000      \n",
      "_________________________________________________________________\n",
      "dense_1 (Dense)              (None, 10)                10010     \n",
      "_________________________________________________________________\n",
      "dense_2 (Dense)              (None, 1)                 11        \n",
      "=================================================================\n",
      "Total params: 16,021\n",
      "Trainable params: 16,021\n",
      "Non-trainable params: 0\n",
      "_________________________________________________________________\n"
     ]
    }
   ],
   "source": [
    "#建構模型\n",
    "network = models.Sequential()\n",
    "network.add(layers.Dense(1000, activation='relu', input_shape=(X_train.shape[1],)))\n",
    "network.add(layers.Dense(10, activation='relu'))\n",
    "network.add(layers.Dense(1, activation='sigmoid'))\n",
    "network.compile(optimizer='rmsprop', loss='binary_crossentropy',metrics=['acc',precision, recall])\n",
    "network.summary()"
   ]
  },
  {
   "cell_type": "code",
   "execution_count": 6,
   "id": "67be539b",
   "metadata": {
    "scrolled": false
   },
   "outputs": [
    {
     "name": "stdout",
     "output_type": "stream",
     "text": [
      "Epoch 1/50\n",
      "168/168 [==============================] - 0s 2ms/step - loss: 0.6489 - acc: 0.6170 - precision: 0.6569 - recall: 0.4725 - val_loss: 0.6265 - val_acc: 0.6369 - val_precision: 0.6735 - val_recall: 0.5173\n",
      "Epoch 2/50\n",
      "168/168 [==============================] - 0s 1ms/step - loss: 0.6172 - acc: 0.6438 - precision: 0.6780 - recall: 0.5447 - val_loss: 0.6045 - val_acc: 0.6571 - val_precision: 0.6810 - val_recall: 0.5774\n",
      "Epoch 3/50\n",
      "168/168 [==============================] - 0s 1ms/step - loss: 0.6036 - acc: 0.6586 - precision: 0.6775 - recall: 0.6024 - val_loss: 0.6009 - val_acc: 0.6588 - val_precision: 0.7203 - val_recall: 0.5062\n",
      "Epoch 4/50\n",
      "168/168 [==============================] - 0s 1ms/step - loss: 0.5980 - acc: 0.6604 - precision: 0.6731 - recall: 0.6227 - val_loss: 0.5976 - val_acc: 0.6665 - val_precision: 0.6540 - val_recall: 0.6917\n",
      "Epoch 5/50\n",
      "168/168 [==============================] - 0s 2ms/step - loss: 0.5940 - acc: 0.6643 - precision: 0.6718 - recall: 0.6393 - val_loss: 0.5935 - val_acc: 0.6638 - val_precision: 0.6832 - val_recall: 0.5968\n",
      "Epoch 6/50\n",
      "168/168 [==============================] - 0s 2ms/step - loss: 0.5928 - acc: 0.6621 - precision: 0.6677 - recall: 0.6487 - val_loss: 0.5894 - val_acc: 0.6671 - val_precision: 0.6885 - val_recall: 0.5968\n",
      "Epoch 7/50\n",
      "168/168 [==============================] - 0s 1ms/step - loss: 0.5905 - acc: 0.6649 - precision: 0.6657 - recall: 0.6624 - val_loss: 0.5870 - val_acc: 0.6696 - val_precision: 0.6853 - val_recall: 0.6138\n",
      "Epoch 8/50\n",
      "168/168 [==============================] - 0s 1ms/step - loss: 0.5893 - acc: 0.6629 - precision: 0.6612 - recall: 0.6675 - val_loss: 0.5895 - val_acc: 0.6694 - val_precision: 0.6886 - val_recall: 0.6048\n",
      "Epoch 9/50\n",
      "168/168 [==============================] - 0s 1ms/step - loss: 0.5881 - acc: 0.6640 - precision: 0.6636 - recall: 0.6662 - val_loss: 0.5883 - val_acc: 0.6597 - val_precision: 0.6402 - val_recall: 0.7101\n",
      "Epoch 10/50\n",
      "168/168 [==============================] - 0s 1ms/step - loss: 0.5870 - acc: 0.6651 - precision: 0.6637 - recall: 0.6686 - val_loss: 0.5953 - val_acc: 0.6619 - val_precision: 0.7268 - val_recall: 0.5054\n",
      "Epoch 11/50\n",
      "168/168 [==============================] - 0s 1ms/step - loss: 0.5871 - acc: 0.6628 - precision: 0.6620 - recall: 0.6668 - val_loss: 0.5823 - val_acc: 0.6691 - val_precision: 0.6648 - val_recall: 0.6661\n",
      "Epoch 12/50\n",
      "168/168 [==============================] - 0s 1ms/step - loss: 0.5862 - acc: 0.6651 - precision: 0.6651 - recall: 0.6682 - val_loss: 0.5891 - val_acc: 0.6568 - val_precision: 0.6254 - val_recall: 0.7610\n",
      "Epoch 13/50\n",
      "168/168 [==============================] - 0s 1ms/step - loss: 0.5848 - acc: 0.6654 - precision: 0.6626 - recall: 0.6724 - val_loss: 0.5844 - val_acc: 0.6720 - val_precision: 0.7190 - val_recall: 0.5513\n",
      "Epoch 14/50\n",
      "168/168 [==============================] - 0s 1ms/step - loss: 0.5844 - acc: 0.6666 - precision: 0.6682 - recall: 0.6621 - val_loss: 0.5820 - val_acc: 0.6753 - val_precision: 0.6864 - val_recall: 0.6309\n",
      "Epoch 15/50\n",
      "168/168 [==============================] - 0s 1ms/step - loss: 0.5831 - acc: 0.6660 - precision: 0.6672 - recall: 0.6601 - val_loss: 0.5797 - val_acc: 0.6709 - val_precision: 0.6851 - val_recall: 0.6169\n",
      "Epoch 16/50\n",
      "168/168 [==============================] - 0s 1ms/step - loss: 0.5824 - acc: 0.6672 - precision: 0.6700 - recall: 0.6586 - val_loss: 0.5852 - val_acc: 0.6753 - val_precision: 0.7041 - val_recall: 0.5909\n",
      "Epoch 17/50\n",
      "168/168 [==============================] - 0s 1ms/step - loss: 0.5828 - acc: 0.6682 - precision: 0.6707 - recall: 0.6609 - val_loss: 0.5808 - val_acc: 0.6691 - val_precision: 0.6446 - val_recall: 0.7359\n",
      "Epoch 18/50\n",
      "168/168 [==============================] - 0s 1ms/step - loss: 0.5818 - acc: 0.6680 - precision: 0.6703 - recall: 0.6609 - val_loss: 0.5854 - val_acc: 0.6539 - val_precision: 0.6171 - val_recall: 0.7893\n",
      "Epoch 19/50\n",
      "168/168 [==============================] - 0s 1ms/step - loss: 0.5815 - acc: 0.6666 - precision: 0.6693 - recall: 0.6613 - val_loss: 0.5787 - val_acc: 0.6742 - val_precision: 0.6663 - val_recall: 0.6818\n",
      "Epoch 20/50\n",
      "168/168 [==============================] - 0s 1ms/step - loss: 0.5815 - acc: 0.6655 - precision: 0.6686 - recall: 0.6568 - val_loss: 0.5847 - val_acc: 0.6704 - val_precision: 0.6355 - val_recall: 0.7799\n",
      "Epoch 21/50\n",
      "168/168 [==============================] - 0s 1ms/step - loss: 0.5804 - acc: 0.6677 - precision: 0.6701 - recall: 0.6588 - val_loss: 0.5775 - val_acc: 0.6769 - val_precision: 0.6952 - val_recall: 0.6171\n",
      "Epoch 22/50\n",
      "168/168 [==============================] - 0s 1ms/step - loss: 0.5796 - acc: 0.6694 - precision: 0.6721 - recall: 0.6600 - val_loss: 0.5757 - val_acc: 0.6716 - val_precision: 0.6681 - val_recall: 0.6669\n",
      "Epoch 23/50\n",
      "168/168 [==============================] - 0s 1ms/step - loss: 0.5788 - acc: 0.6686 - precision: 0.6708 - recall: 0.6605 - val_loss: 0.5879 - val_acc: 0.6727 - val_precision: 0.7135 - val_recall: 0.5644\n",
      "Epoch 24/50\n",
      "168/168 [==============================] - 0s 1ms/step - loss: 0.5790 - acc: 0.6696 - precision: 0.6733 - recall: 0.6599 - val_loss: 0.5751 - val_acc: 0.6787 - val_precision: 0.7034 - val_recall: 0.6051\n",
      "Epoch 25/50\n",
      "168/168 [==============================] - 0s 1ms/step - loss: 0.5782 - acc: 0.6711 - precision: 0.6746 - recall: 0.6593 - val_loss: 0.5861 - val_acc: 0.6747 - val_precision: 0.7174 - val_recall: 0.5638\n",
      "Epoch 26/50\n",
      "168/168 [==============================] - 0s 1ms/step - loss: 0.5777 - acc: 0.6715 - precision: 0.6756 - recall: 0.6589 - val_loss: 0.5732 - val_acc: 0.6771 - val_precision: 0.6776 - val_recall: 0.6610\n",
      "Epoch 27/50\n",
      "168/168 [==============================] - 0s 1ms/step - loss: 0.5775 - acc: 0.6691 - precision: 0.6734 - recall: 0.6561 - val_loss: 0.5743 - val_acc: 0.6705 - val_precision: 0.6538 - val_recall: 0.7068\n",
      "Epoch 28/50\n",
      "168/168 [==============================] - 0s 2ms/step - loss: 0.5761 - acc: 0.6714 - precision: 0.6755 - recall: 0.6601 - val_loss: 0.5726 - val_acc: 0.6752 - val_precision: 0.6749 - val_recall: 0.6613\n",
      "Epoch 29/50\n",
      "168/168 [==============================] - 0s 2ms/step - loss: 0.5763 - acc: 0.6698 - precision: 0.6738 - recall: 0.6576 - val_loss: 0.5725 - val_acc: 0.6733 - val_precision: 0.6721 - val_recall: 0.6620\n",
      "Epoch 30/50\n",
      "168/168 [==============================] - 0s 2ms/step - loss: 0.5756 - acc: 0.6713 - precision: 0.6766 - recall: 0.6573 - val_loss: 0.5725 - val_acc: 0.6780 - val_precision: 0.6863 - val_recall: 0.6417\n",
      "Epoch 31/50\n",
      "168/168 [==============================] - 0s 2ms/step - loss: 0.5750 - acc: 0.6717 - precision: 0.6766 - recall: 0.6573 - val_loss: 0.6050 - val_acc: 0.6643 - val_precision: 0.7772 - val_recall: 0.4493\n",
      "Epoch 32/50\n",
      "168/168 [==============================] - 0s 2ms/step - loss: 0.5745 - acc: 0.6705 - precision: 0.6756 - recall: 0.6560 - val_loss: 0.5751 - val_acc: 0.6798 - val_precision: 0.7222 - val_recall: 0.5726\n",
      "Epoch 33/50\n",
      "168/168 [==============================] - 0s 1ms/step - loss: 0.5729 - acc: 0.6752 - precision: 0.6823 - recall: 0.6528 - val_loss: 0.5751 - val_acc: 0.6783 - val_precision: 0.7038 - val_recall: 0.6021\n",
      "Epoch 34/50\n",
      "168/168 [==============================] - 0s 1ms/step - loss: 0.5732 - acc: 0.6727 - precision: 0.6813 - recall: 0.6507 - val_loss: 0.5771 - val_acc: 0.6830 - val_precision: 0.7510 - val_recall: 0.5359\n",
      "Epoch 35/50\n",
      "168/168 [==============================] - 0s 1ms/step - loss: 0.5722 - acc: 0.6734 - precision: 0.6822 - recall: 0.6489 - val_loss: 0.5772 - val_acc: 0.6740 - val_precision: 0.6678 - val_recall: 0.6767\n",
      "Epoch 36/50\n",
      "168/168 [==============================] - 0s 2ms/step - loss: 0.5711 - acc: 0.6757 - precision: 0.6854 - recall: 0.6479 - val_loss: 0.5836 - val_acc: 0.6695 - val_precision: 0.6350 - val_recall: 0.7778\n",
      "Epoch 37/50\n",
      "168/168 [==============================] - 0s 2ms/step - loss: 0.5706 - acc: 0.6763 - precision: 0.6855 - recall: 0.6502 - val_loss: 0.5706 - val_acc: 0.6855 - val_precision: 0.7391 - val_recall: 0.5619\n",
      "Epoch 38/50\n",
      "168/168 [==============================] - 0s 1ms/step - loss: 0.5694 - acc: 0.6762 - precision: 0.6876 - recall: 0.6441 - val_loss: 0.5664 - val_acc: 0.6774 - val_precision: 0.6666 - val_recall: 0.6948\n",
      "Epoch 39/50\n"
     ]
    },
    {
     "name": "stdout",
     "output_type": "stream",
     "text": [
      "168/168 [==============================] - 0s 2ms/step - loss: 0.5687 - acc: 0.6772 - precision: 0.6898 - recall: 0.6440 - val_loss: 0.5662 - val_acc: 0.6826 - val_precision: 0.6979 - val_recall: 0.6304\n",
      "Epoch 40/50\n",
      "168/168 [==============================] - 0s 2ms/step - loss: 0.5678 - acc: 0.6780 - precision: 0.6934 - recall: 0.6381 - val_loss: 0.5697 - val_acc: 0.6812 - val_precision: 0.7174 - val_recall: 0.5866\n",
      "Epoch 41/50\n",
      "168/168 [==============================] - 0s 1ms/step - loss: 0.5672 - acc: 0.6792 - precision: 0.6955 - recall: 0.6377 - val_loss: 0.5638 - val_acc: 0.6808 - val_precision: 0.6754 - val_recall: 0.6809\n",
      "Epoch 42/50\n",
      "168/168 [==============================] - 0s 1ms/step - loss: 0.5660 - acc: 0.6802 - precision: 0.6979 - recall: 0.6377 - val_loss: 0.5748 - val_acc: 0.6845 - val_precision: 0.7480 - val_recall: 0.5447\n",
      "Epoch 43/50\n",
      "168/168 [==============================] - 0s 1ms/step - loss: 0.5656 - acc: 0.6794 - precision: 0.7005 - recall: 0.6288 - val_loss: 0.5637 - val_acc: 0.6826 - val_precision: 0.6629 - val_recall: 0.7271\n",
      "Epoch 44/50\n",
      "168/168 [==============================] - 0s 1ms/step - loss: 0.5651 - acc: 0.6813 - precision: 0.7003 - recall: 0.6363 - val_loss: 0.5726 - val_acc: 0.6870 - val_precision: 0.7452 - val_recall: 0.5567\n",
      "Epoch 45/50\n",
      "168/168 [==============================] - 0s 1ms/step - loss: 0.5643 - acc: 0.6824 - precision: 0.7043 - recall: 0.6318 - val_loss: 0.5688 - val_acc: 0.6841 - val_precision: 0.6694 - val_recall: 0.7125\n",
      "Epoch 46/50\n",
      "168/168 [==============================] - 0s 1ms/step - loss: 0.5636 - acc: 0.6825 - precision: 0.7036 - recall: 0.6317 - val_loss: 0.5582 - val_acc: 0.6906 - val_precision: 0.7185 - val_recall: 0.6152\n",
      "Epoch 47/50\n",
      "168/168 [==============================] - 0s 1ms/step - loss: 0.5629 - acc: 0.6843 - precision: 0.7073 - recall: 0.6302 - val_loss: 0.5624 - val_acc: 0.6925 - val_precision: 0.7330 - val_recall: 0.5944\n",
      "Epoch 48/50\n",
      "168/168 [==============================] - 0s 1ms/step - loss: 0.5615 - acc: 0.6849 - precision: 0.7089 - recall: 0.6265 - val_loss: 0.5584 - val_acc: 0.6901 - val_precision: 0.6854 - val_recall: 0.6897\n",
      "Epoch 49/50\n",
      "168/168 [==============================] - 0s 2ms/step - loss: 0.5611 - acc: 0.6865 - precision: 0.7113 - recall: 0.6285 - val_loss: 0.5583 - val_acc: 0.6921 - val_precision: 0.7599 - val_recall: 0.5513\n",
      "Epoch 50/50\n",
      "168/168 [==============================] - 0s 1ms/step - loss: 0.5609 - acc: 0.6869 - precision: 0.7153 - recall: 0.6219 - val_loss: 0.5558 - val_acc: 0.6948 - val_precision: 0.7297 - val_recall: 0.6084\n"
     ]
    }
   ],
   "source": [
    "history = network.fit(X_train,Y_train,\n",
    "epochs=50,\n",
    "batch_size=250,validation_data=(X_test, Y_test))"
   ]
  },
  {
   "cell_type": "code",
   "execution_count": 7,
   "id": "7d2b4c77",
   "metadata": {},
   "outputs": [
    {
     "data": {
      "image/png": "[encoded data removed]",
      "text/plain": [
       "<Figure size 432x288 with 1 Axes>"
      ]
     },
     "metadata": {
      "needs_background": "light"
     },
     "output_type": "display_data"
    }
   ],
   "source": [
    "loss = history.history[\"loss\"]\n",
    "epochs = range(1, len(loss)+1)\n",
    "plt.plot(epochs, loss, \"bo\", label =\"Training Loss\")\n",
    "plt.plot(epochs, history.history['val_loss'], 'b', label='Validation loss')\n",
    "plt.xlabel(\"Epochs\")\n",
    "plt.ylabel(\"Loss\")\n",
    "plt.legend()\n",
    "plt.show()"
   ]
  },
  {
   "cell_type": "code",
   "execution_count": 8,
   "id": "7ea66316",
   "metadata": {},
   "outputs": [
    {
     "name": "stdout",
     "output_type": "stream",
     "text": [
      "328/328 [==============================] - 0s 457us/step - loss: 0.5558 - acc: 0.6948 - precision: 0.7298 - recall: 0.6079\n",
      "Precision 0.7297828197479248\n",
      "Recall 0.6079201102256775\n",
      "F1 0.6633007109145211\n"
     ]
    }
   ],
   "source": [
    "preds = network.evaluate(x = X_test, y = Y_test)\n",
    "\n",
    "F1 = 2 * (preds[2] * preds[3]) / (preds[2] + preds[3])\n",
    "print('Precision', preds[2])\n",
    "print('Recall', preds[3])\n",
    "print('F1',F1)"
   ]
  },
  {
   "cell_type": "code",
   "execution_count": 9,
   "id": "a5a7e31b",
   "metadata": {},
   "outputs": [
    {
     "data": {
      "image/png": "[encoded data removed]",
      "text/plain": [
       "<Figure size 576x360 with 1 Axes>"
      ]
     },
     "metadata": {
      "needs_background": "light"
     },
     "output_type": "display_data"
    }
   ],
   "source": [
    "pd.DataFrame(history.history).plot(figsize = (8, 5))\n",
    "plt.grid(True)\n",
    "plt.gca().set_ylim(0, 2)\n",
    "plt.show()"
   ]
  },
  {
   "cell_type": "markdown",
   "id": "c7316681",
   "metadata": {},
   "source": [
    "# 數值"
   ]
  },
  {
   "cell_type": "code",
   "execution_count": 10,
   "id": "0b578e35",
   "metadata": {},
   "outputs": [],
   "source": [
    "from sklearn.metrics import mean_squared_error #MSE\n",
    "from sklearn.metrics import mean_absolute_error #MAE\n",
    "from sklearn.metrics import mean_absolute_percentage_error#MAPE\n",
    "import tensorflow as tf\n",
    "def MAE(y_true, predictions):\n",
    "    y_true, predictions = np.array(y_true), np.array(predictions)\n",
    "    return np.mean(np.abs(y_true - predictions))\n",
    "\n",
    "def MSE(actual, pred): \n",
    "    actual, pred = np.array(actual), np.array(pred)\n",
    "    return np.square(np.subtract(actual,pred)).mean() \n",
    "\n",
    "def MAPE(y_true, y_pred): \n",
    "    y_true, y_pred = np.array(y_true), np.array(y_pred)\n",
    "    return np.mean(np.abs((y_true - y_pred) / y_true))"
   ]
  },
  {
   "cell_type": "code",
   "execution_count": 11,
   "id": "84e90a56",
   "metadata": {},
   "outputs": [],
   "source": [
    "#匯入資料\n",
    "dataset = pd.read_csv('Part1Data.csv')"
   ]
  },
  {
   "cell_type": "code",
   "execution_count": 12,
   "id": "27928f77",
   "metadata": {},
   "outputs": [],
   "source": [
    "# 正規化\n",
    "from sklearn.preprocessing import MinMaxScaler\n",
    "scaler = MinMaxScaler()\n",
    "dataset_1 = scaler.fit_transform(dataset)\n",
    "dataset_2 = pd.DataFrame(dataset_1,columns=dataset.columns)\n",
    "dataset_2\n",
    "\n",
    "# 設定答案\n",
    "dataset_target = dataset_2.pop('Zone1PowerConsumption')\n",
    "dataset_target.loc()[dataset_target == 0]= dataset_target.mean()\n",
    "#丟棄不需用到的資料\n",
    "dataset_2 = dataset_2.drop(\"Zone2PowerConsumption\",axis = 1)\n",
    "dataset_2 = dataset_2.drop(\"Zone3PowerConsumption\",axis = 1)\n",
    "dataset_2 = dataset_2.drop(\"general diffuse flows\",axis = 1)\n",
    "dataset_2 = dataset_2.drop(\"diffuse flows\",axis = 1)\n",
    "dataset_2 = dataset_2.drop(\"IsoverAVE\",axis = 1)"
   ]
  },
  {
   "cell_type": "code",
   "execution_count": 13,
   "id": "a589a366",
   "metadata": {
    "scrolled": true
   },
   "outputs": [
    {
     "data": {
      "text/plain": [
       "array([[5.69019616e-02, 2.39647061e-01, 3.05882364e-04, 1.88235295e-04,\n",
       "        5.68627438e-04],\n",
       "       [7.83921555e-02, 2.08941177e-01, 1.93137266e-02, 3.99999990e-04,\n",
       "        3.05882364e-04],\n",
       "       [9.18039232e-02, 2.20745102e-01, 1.93372555e-02, 2.88235283e+00,\n",
       "        1.87960789e-01],\n",
       "       ...,\n",
       "       [1.01333335e-01, 3.15294117e-01, 1.93294119e-02, 9.11372542e-01,\n",
       "        7.41960764e-01],\n",
       "       [6.91764653e-02, 1.96392164e-01, 1.93019602e-02, 1.94862747e+00,\n",
       "        3.89019608e-01],\n",
       "       [9.72549021e-02, 2.72627443e-01, 1.02352945e-03, 1.90666672e-02,\n",
       "        1.54980384e-02]], dtype=float32)"
      ]
     },
     "execution_count": 13,
     "metadata": {},
     "output_type": "execute_result"
    }
   ],
   "source": [
    "X_test"
   ]
  },
  {
   "cell_type": "code",
   "execution_count": 14,
   "id": "217b3a66",
   "metadata": {},
   "outputs": [],
   "source": [
    "# 分割資料\n",
    "from sklearn.model_selection import train_test_split\n",
    "X_train, X_test, Y_train, Y_test = train_test_split( dataset_2 , dataset_target , test_size = 0.2)"
   ]
  },
  {
   "cell_type": "code",
   "execution_count": 15,
   "id": "99172ff7",
   "metadata": {
    "scrolled": false
   },
   "outputs": [
    {
     "name": "stdout",
     "output_type": "stream",
     "text": [
      "(41932, 3)\n",
      "(10484, 3)\n",
      "(10484,)\n"
     ]
    }
   ],
   "source": [
    "print(X_train.shape)\n",
    "print(X_test.shape)\n",
    "print(Y_test.shape)"
   ]
  },
  {
   "cell_type": "code",
   "execution_count": 16,
   "id": "1920adba",
   "metadata": {
    "scrolled": true
   },
   "outputs": [
    {
     "name": "stdout",
     "output_type": "stream",
     "text": [
      "Model: \"sequential_1\"\n",
      "_________________________________________________________________\n",
      "Layer (type)                 Output Shape              Param #   \n",
      "=================================================================\n",
      "dense_3 (Dense)              (None, 64)                256       \n",
      "_________________________________________________________________\n",
      "dense_4 (Dense)              (None, 64)                4160      \n",
      "_________________________________________________________________\n",
      "dense_5 (Dense)              (None, 1)                 65        \n",
      "=================================================================\n",
      "Total params: 4,481\n",
      "Trainable params: 4,481\n",
      "Non-trainable params: 0\n",
      "_________________________________________________________________\n"
     ]
    }
   ],
   "source": [
    "#建立Sequential物件\n",
    "network = models.Sequential()\n",
    "network.add(layers.Dense(64, activation='relu', input_shape=(X_train.shape[1],)))\n",
    "network.add(layers.Dense(64, activation='relu'))\n",
    "network.add(layers.Dense(1))\n",
    "network.compile(optimizer='RMSprop', loss='mse',metrics=[tf.keras.metrics.mae,tf.keras.metrics.mape,tf.metrics.mse] )\n",
    "network.summary()"
   ]
  },
  {
   "cell_type": "code",
   "execution_count": 17,
   "id": "f5d2536f",
   "metadata": {},
   "outputs": [
    {
     "name": "stdout",
     "output_type": "stream",
     "text": [
      "Epoch 1/50\n",
      "839/839 [==============================] - 0s 513us/step - loss: 0.0286 - mean_absolute_error: 0.1362 - mean_absolute_percentage_error: 36.6591 - mean_squared_error: 0.0286\n",
      "Epoch 2/50\n",
      "839/839 [==============================] - 0s 513us/step - loss: 0.0271 - mean_absolute_error: 0.1325 - mean_absolute_percentage_error: 35.9403 - mean_squared_error: 0.0271\n",
      "Epoch 3/50\n",
      "839/839 [==============================] - 0s 507us/step - loss: 0.0270 - mean_absolute_error: 0.1321 - mean_absolute_percentage_error: 36.0940 - mean_squared_error: 0.0270\n",
      "Epoch 4/50\n",
      "839/839 [==============================] - 0s 545us/step - loss: 0.0269 - mean_absolute_error: 0.1316 - mean_absolute_percentage_error: 35.5980 - mean_squared_error: 0.0269\n",
      "Epoch 5/50\n",
      "839/839 [==============================] - 0s 562us/step - loss: 0.0268 - mean_absolute_error: 0.1313 - mean_absolute_percentage_error: 35.8981 - mean_squared_error: 0.0268\n",
      "Epoch 6/50\n",
      "839/839 [==============================] - 0s 526us/step - loss: 0.0266 - mean_absolute_error: 0.1310 - mean_absolute_percentage_error: 35.8689 - mean_squared_error: 0.0266\n",
      "Epoch 7/50\n",
      "839/839 [==============================] - 0s 538us/step - loss: 0.0266 - mean_absolute_error: 0.1307 - mean_absolute_percentage_error: 35.7766 - mean_squared_error: 0.0266\n",
      "Epoch 8/50\n",
      "839/839 [==============================] - 0s 516us/step - loss: 0.0265 - mean_absolute_error: 0.1306 - mean_absolute_percentage_error: 35.7359 - mean_squared_error: 0.0265\n",
      "Epoch 9/50\n",
      "839/839 [==============================] - 0s 561us/step - loss: 0.0264 - mean_absolute_error: 0.1303 - mean_absolute_percentage_error: 35.7767 - mean_squared_error: 0.0264\n",
      "Epoch 10/50\n",
      "839/839 [==============================] - 0s 550us/step - loss: 0.0263 - mean_absolute_error: 0.1300 - mean_absolute_percentage_error: 35.6320 - mean_squared_error: 0.0263\n",
      "Epoch 11/50\n",
      "839/839 [==============================] - 0s 525us/step - loss: 0.0263 - mean_absolute_error: 0.1300 - mean_absolute_percentage_error: 35.6091 - mean_squared_error: 0.0263\n",
      "Epoch 12/50\n",
      "839/839 [==============================] - 0s 504us/step - loss: 0.0262 - mean_absolute_error: 0.1298 - mean_absolute_percentage_error: 35.4277 - mean_squared_error: 0.0262\n",
      "Epoch 13/50\n",
      "839/839 [==============================] - 0s 524us/step - loss: 0.0262 - mean_absolute_error: 0.1297 - mean_absolute_percentage_error: 35.4325 - mean_squared_error: 0.0262\n",
      "Epoch 14/50\n",
      "839/839 [==============================] - 0s 507us/step - loss: 0.0261 - mean_absolute_error: 0.1296 - mean_absolute_percentage_error: 35.4293 - mean_squared_error: 0.0261\n",
      "Epoch 15/50\n",
      "839/839 [==============================] - 0s 520us/step - loss: 0.0261 - mean_absolute_error: 0.1295 - mean_absolute_percentage_error: 35.4097 - mean_squared_error: 0.0261\n",
      "Epoch 16/50\n",
      "839/839 [==============================] - 0s 504us/step - loss: 0.0261 - mean_absolute_error: 0.1295 - mean_absolute_percentage_error: 35.3407 - mean_squared_error: 0.0261\n",
      "Epoch 17/50\n",
      "839/839 [==============================] - 0s 531us/step - loss: 0.0261 - mean_absolute_error: 0.1294 - mean_absolute_percentage_error: 35.2350 - mean_squared_error: 0.0261\n",
      "Epoch 18/50\n",
      "839/839 [==============================] - 0s 552us/step - loss: 0.0260 - mean_absolute_error: 0.1293 - mean_absolute_percentage_error: 35.3867 - mean_squared_error: 0.0260\n",
      "Epoch 19/50\n",
      "839/839 [==============================] - 0s 538us/step - loss: 0.0260 - mean_absolute_error: 0.1290 - mean_absolute_percentage_error: 35.2908 - mean_squared_error: 0.0260\n",
      "Epoch 20/50\n",
      "839/839 [==============================] - 0s 530us/step - loss: 0.0260 - mean_absolute_error: 0.1291 - mean_absolute_percentage_error: 35.1398 - mean_squared_error: 0.0260\n",
      "Epoch 21/50\n",
      "839/839 [==============================] - 0s 570us/step - loss: 0.0259 - mean_absolute_error: 0.1289 - mean_absolute_percentage_error: 35.3358 - mean_squared_error: 0.0259\n",
      "Epoch 22/50\n",
      "839/839 [==============================] - 0s 582us/step - loss: 0.0259 - mean_absolute_error: 0.1289 - mean_absolute_percentage_error: 35.3128 - mean_squared_error: 0.0259\n",
      "Epoch 23/50\n",
      "839/839 [==============================] - 0s 537us/step - loss: 0.0259 - mean_absolute_error: 0.1288 - mean_absolute_percentage_error: 35.1320 - mean_squared_error: 0.0259\n",
      "Epoch 24/50\n",
      "839/839 [==============================] - 0s 522us/step - loss: 0.0259 - mean_absolute_error: 0.1287 - mean_absolute_percentage_error: 35.1387 - mean_squared_error: 0.0259\n",
      "Epoch 25/50\n",
      "839/839 [==============================] - 0s 524us/step - loss: 0.0258 - mean_absolute_error: 0.1286 - mean_absolute_percentage_error: 35.0934 - mean_squared_error: 0.0258\n",
      "Epoch 26/50\n",
      "839/839 [==============================] - 0s 521us/step - loss: 0.0258 - mean_absolute_error: 0.1287 - mean_absolute_percentage_error: 34.9701 - mean_squared_error: 0.0258\n",
      "Epoch 27/50\n",
      "839/839 [==============================] - 0s 524us/step - loss: 0.0259 - mean_absolute_error: 0.1287 - mean_absolute_percentage_error: 35.1739 - mean_squared_error: 0.0259\n",
      "Epoch 28/50\n",
      "839/839 [==============================] - 0s 517us/step - loss: 0.0258 - mean_absolute_error: 0.1285 - mean_absolute_percentage_error: 34.9825 - mean_squared_error: 0.0258\n",
      "Epoch 29/50\n",
      "839/839 [==============================] - 0s 569us/step - loss: 0.0258 - mean_absolute_error: 0.1286 - mean_absolute_percentage_error: 35.0541 - mean_squared_error: 0.0258\n",
      "Epoch 30/50\n",
      "839/839 [==============================] - 0s 515us/step - loss: 0.0258 - mean_absolute_error: 0.1284 - mean_absolute_percentage_error: 35.1566 - mean_squared_error: 0.0258\n",
      "Epoch 31/50\n",
      "839/839 [==============================] - 0s 583us/step - loss: 0.0258 - mean_absolute_error: 0.1285 - mean_absolute_percentage_error: 35.0410 - mean_squared_error: 0.0258\n",
      "Epoch 32/50\n",
      "839/839 [==============================] - 0s 522us/step - loss: 0.0258 - mean_absolute_error: 0.1285 - mean_absolute_percentage_error: 35.1461 - mean_squared_error: 0.0258\n",
      "Epoch 33/50\n",
      "839/839 [==============================] - 0s 542us/step - loss: 0.0258 - mean_absolute_error: 0.1284 - mean_absolute_percentage_error: 34.9341 - mean_squared_error: 0.0258\n",
      "Epoch 34/50\n",
      "839/839 [==============================] - 0s 527us/step - loss: 0.0258 - mean_absolute_error: 0.1283 - mean_absolute_percentage_error: 34.9227 - mean_squared_error: 0.0258\n",
      "Epoch 35/50\n",
      "839/839 [==============================] - 0s 523us/step - loss: 0.0258 - mean_absolute_error: 0.1285 - mean_absolute_percentage_error: 35.0157 - mean_squared_error: 0.0258\n",
      "Epoch 36/50\n",
      "839/839 [==============================] - 0s 532us/step - loss: 0.0257 - mean_absolute_error: 0.1283 - mean_absolute_percentage_error: 34.8295 - mean_squared_error: 0.0257\n",
      "Epoch 37/50\n",
      "839/839 [==============================] - 0s 525us/step - loss: 0.0257 - mean_absolute_error: 0.1283 - mean_absolute_percentage_error: 34.8675 - mean_squared_error: 0.0257\n",
      "Epoch 38/50\n",
      "839/839 [==============================] - 0s 538us/step - loss: 0.0257 - mean_absolute_error: 0.1283 - mean_absolute_percentage_error: 34.9512 - mean_squared_error: 0.0257\n",
      "Epoch 39/50\n",
      "839/839 [==============================] - 0s 542us/step - loss: 0.0257 - mean_absolute_error: 0.1285 - mean_absolute_percentage_error: 35.0848 - mean_squared_error: 0.0257\n",
      "Epoch 40/50\n",
      "839/839 [==============================] - 0s 536us/step - loss: 0.0257 - mean_absolute_error: 0.1282 - mean_absolute_percentage_error: 34.9796 - mean_squared_error: 0.0257\n",
      "Epoch 41/50\n",
      "839/839 [==============================] - 0s 522us/step - loss: 0.0257 - mean_absolute_error: 0.1281 - mean_absolute_percentage_error: 34.7896 - mean_squared_error: 0.0257\n",
      "Epoch 42/50\n",
      "839/839 [==============================] - 0s 511us/step - loss: 0.0256 - mean_absolute_error: 0.1281 - mean_absolute_percentage_error: 34.8087 - mean_squared_error: 0.0256\n",
      "Epoch 43/50\n",
      "839/839 [==============================] - 0s 526us/step - loss: 0.0257 - mean_absolute_error: 0.1281 - mean_absolute_percentage_error: 34.9387 - mean_squared_error: 0.0257\n",
      "Epoch 44/50\n",
      "839/839 [==============================] - 0s 518us/step - loss: 0.0256 - mean_absolute_error: 0.1281 - mean_absolute_percentage_error: 34.9733 - mean_squared_error: 0.0256\n",
      "Epoch 45/50\n"
     ]
    },
    {
     "name": "stdout",
     "output_type": "stream",
     "text": [
      "839/839 [==============================] - 0s 526us/step - loss: 0.0257 - mean_absolute_error: 0.1280 - mean_absolute_percentage_error: 34.6713 - mean_squared_error: 0.0257\n",
      "Epoch 46/50\n",
      "839/839 [==============================] - 0s 558us/step - loss: 0.0256 - mean_absolute_error: 0.1279 - mean_absolute_percentage_error: 34.6982 - mean_squared_error: 0.0256\n",
      "Epoch 47/50\n",
      "839/839 [==============================] - 0s 520us/step - loss: 0.0256 - mean_absolute_error: 0.1280 - mean_absolute_percentage_error: 34.8725 - mean_squared_error: 0.0256\n",
      "Epoch 48/50\n",
      "839/839 [==============================] - 0s 512us/step - loss: 0.0256 - mean_absolute_error: 0.1280 - mean_absolute_percentage_error: 34.8010 - mean_squared_error: 0.0256\n",
      "Epoch 49/50\n",
      "839/839 [==============================] - 0s 512us/step - loss: 0.0256 - mean_absolute_error: 0.1280 - mean_absolute_percentage_error: 34.9974 - mean_squared_error: 0.0256\n",
      "Epoch 50/50\n",
      "839/839 [==============================] - 0s 528us/step - loss: 0.0256 - mean_absolute_error: 0.1279 - mean_absolute_percentage_error: 34.9277 - mean_squared_error: 0.0256\n"
     ]
    }
   ],
   "source": [
    "history = network.fit(X_train,Y_train,\n",
    "epochs=50,\n",
    "batch_size=50)"
   ]
  },
  {
   "cell_type": "code",
   "execution_count": 18,
   "id": "50d58445",
   "metadata": {},
   "outputs": [
    {
     "data": {
      "image/png": "[encoded data removed]",
      "text/plain": [
       "<Figure size 576x360 with 1 Axes>"
      ]
     },
     "metadata": {
      "needs_background": "light"
     },
     "output_type": "display_data"
    }
   ],
   "source": [
    "history.history['mean_absolute_percentage_error']=list(map(lambda x:x/100, history.history['mean_absolute_percentage_error']))\n",
    "pd.DataFrame(history.history).plot(figsize = (8, 5))\n",
    "plt.grid(True)\n",
    "plt.gca().set_ylim(0, 1)\n",
    "plt.show()"
   ]
  },
  {
   "cell_type": "code",
   "execution_count": 19,
   "id": "83684d45",
   "metadata": {},
   "outputs": [
    {
     "data": {
      "text/plain": [
       "array([[0.52183425],\n",
       "       [0.6037508 ],\n",
       "       [0.29807222],\n",
       "       ...,\n",
       "       [0.37727624],\n",
       "       [0.56986827],\n",
       "       [0.47742337]], dtype=float32)"
      ]
     },
     "execution_count": 19,
     "metadata": {},
     "output_type": "execute_result"
    }
   ],
   "source": [
    "network.predict(X_test)"
   ]
  },
  {
   "cell_type": "code",
   "execution_count": 20,
   "id": "84fe665b",
   "metadata": {},
   "outputs": [
    {
     "data": {
      "text/plain": [
       "17568    0.395467\n",
       "36349    0.436959\n",
       "5362     0.252239\n",
       "29848    0.336275\n",
       "9900     0.474154\n",
       "           ...   \n",
       "50688    0.328076\n",
       "30504    0.956687\n",
       "2340     0.270897\n",
       "17641    0.458567\n",
       "52201    0.452898\n",
       "Name: Zone1PowerConsumption, Length: 10484, dtype: float64"
      ]
     },
     "execution_count": 20,
     "metadata": {},
     "output_type": "execute_result"
    }
   ],
   "source": [
    "Y_test"
   ]
  },
  {
   "cell_type": "markdown",
   "id": "65072a42",
   "metadata": {},
   "source": [
    "Y_test.to_csv(\"AdultsDataSet_Finaltrain.csv\",index=False)"
   ]
  }
 ],
 "metadata": {
  "kernelspec": {
   "display_name": "Python 3",
   "language": "python",
   "name": "python3"
  },
  "language_info": {
   "codemirror_mode": {
    "name": "ipython",
    "version": 3
   },
   "file_extension": ".py",
   "mimetype": "text/x-python",
   "name": "python",
   "nbconvert_exporter": "python",
   "pygments_lexer": "ipython3",
   "version": "3.8.8"
  }
 },
 "nbformat": 4,
 "nbformat_minor": 5
}
